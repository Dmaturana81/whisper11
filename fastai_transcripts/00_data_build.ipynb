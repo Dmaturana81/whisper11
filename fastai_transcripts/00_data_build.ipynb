{
 "cells": [
  {
   "cell_type": "markdown",
   "id": "ee6cd357",
   "metadata": {},
   "source": [
    "# Preparing Dataset\n",
    "\n",
    "We will take each vtt file to group the text in chunks of about 5 seconds and overlapped"
   ]
  },
  {
   "cell_type": "code",
   "execution_count": null,
   "id": "b4a6864c",
   "metadata": {},
   "outputs": [
    {
     "name": "stdout",
     "output_type": "stream",
     "text": [
      "Collecting webvtt-py\n",
      "  Downloading webvtt_py-0.4.6-py3-none-any.whl (16 kB)\n",
      "Requirement already satisfied: docopt in /home/matu/mambaforge/lib/python3.10/site-packages (from webvtt-py) (0.6.2)\n",
      "Installing collected packages: webvtt-py\n",
      "Successfully installed webvtt-py-0.4.6\n"
     ]
    }
   ],
   "source": [
    "!pip install webvtt-py"
   ]
  },
  {
   "cell_type": "code",
   "execution_count": null,
   "id": "41432783",
   "metadata": {},
   "outputs": [],
   "source": [
    "import webvtt  \n",
    "from tqdm import tqdm\n",
    "from fastcore.all import *"
   ]
  },
  {
   "cell_type": "code",
   "execution_count": null,
   "id": "3f404058",
   "metadata": {},
   "outputs": [],
   "source": [
    "file_path = Path('./')\n",
    "\n",
    "lesson1 = webvtt.read(file_path/'lesson_1_practical_deep_learning_for_coders_2022.vtt')\n",
    "\n",
    "lesson1.captions[0].raw_text\n",
    "\n",
    "documents = []\n",
    "for i, caption in tqdm(enumerate(lesson1.captions)):\n",
    "    start = caption.start\n",
    "    start_in_s = caption.start_in_seconds\n",
    "    passage = \"\"\n",
    "    while len(passage.split(' ')) < 100 and i < len(lesson1.captions)-1:\n",
    "        passage += \" \" + lesson1.captions[i].raw_text\n",
    "        i += 1\n",
    "#         if i > len(captions) -1:\n",
    "#             break\n",
    "    documents.append({\n",
    "    \"video_id\": 'lesson1',\n",
    "    \"text\": passage,\n",
    "    \"start_second\": start_in_s,\n",
    "    \"end_second\": lesson1.captions[i].end_in_seconds,\n",
    "    })\n",
    "        # average sentence length is 75-100 character\n",
    "\n",
    "We will loop through all of these files to give us the initial core dataset consisting of *video_id*, *text*, *start_second*, *end_second*, and *url*.\n",
    "\n",
    "documents[:3]\n",
    "\n",
    "import json\n",
    "\n",
    "with open(\"train.jsonl\", \"w\") as f:\n",
    "    for doc in documents:\n",
    "        json.dump(doc, f)\n",
    "        f.write('\\n')\n",
    "\n",
    "with open(\"train.jsonl\") as f:\n",
    "    d = f.readlines()\n",
    "\n",
    "d[:1]"
   ]
  },
  {
   "cell_type": "code",
   "execution_count": null,
   "id": "81b70ad8",
   "metadata": {},
   "outputs": [],
   "source": []
  }
 ],
 "metadata": {
  "kernelspec": {
   "display_name": "Python 3 (ipykernel)",
   "language": "python",
   "name": "python3"
  }
 },
 "nbformat": 4,
 "nbformat_minor": 5
}
