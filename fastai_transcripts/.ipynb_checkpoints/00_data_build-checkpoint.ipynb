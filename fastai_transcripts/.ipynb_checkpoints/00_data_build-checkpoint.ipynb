{
 "cells": [
  {
   "cell_type": "markdown",
   "id": "ee6cd357",
   "metadata": {},
   "source": [
    "# Preparing Dataset\n",
    "\n",
    "We will take each vtt file to group the text in chunks of about 5 seconds and overlapped"
   ]
  },
  {
   "cell_type": "code",
   "execution_count": null,
   "id": "b4a6864c",
   "metadata": {},
   "outputs": [
    {
     "name": "stdout",
     "output_type": "stream",
     "text": [
      "Collecting webvtt-py\n",
      "  Downloading webvtt_py-0.4.6-py3-none-any.whl (16 kB)\n",
      "Requirement already satisfied: docopt in /home/matu/mambaforge/lib/python3.10/site-packages (from webvtt-py) (0.6.2)\n",
      "Installing collected packages: webvtt-py\n",
      "Successfully installed webvtt-py-0.4.6\n"
     ]
    }
   ],
   "source": [
    "!pip install webvtt-py"
   ]
  },
  {
   "cell_type": "code",
   "execution_count": null,
   "id": "41432783",
   "metadata": {},
   "outputs": [],
   "source": [
    "import webvtt  \n",
    "from tqdm import tqdm\n",
    "from fastcore.all import *"
   ]
  },
  {
   "cell_type": "code",
   "execution_count": null,
   "id": "3f404058",
   "metadata": {},
   "outputs": [],
   "source": [
    "file_path = Path('./')"
   ]
  },
  {
   "cell_type": "code",
   "execution_count": null,
   "id": "950474da",
   "metadata": {},
   "outputs": [],
   "source": [
    "lesson1 = webvtt.read(file_path/'lesson_1_practical_deep_learning_for_coders_2022.vtt')"
   ]
  },
  {
   "cell_type": "code",
   "execution_count": null,
   "id": "3fd23960",
   "metadata": {},
   "outputs": [
    {
     "data": {
      "text/plain": [
       "' Welcome to practical deep learning for coders lesson one.'"
      ]
     },
     "execution_count": null,
     "metadata": {},
     "output_type": "execute_result"
    }
   ],
   "source": [
    "lesson1.captions[0].raw_text"
   ]
  },
  {
   "cell_type": "code",
   "execution_count": null,
   "id": "de81bc75",
   "metadata": {},
   "outputs": [
    {
     "name": "stderr",
     "output_type": "stream",
     "text": [
      "1503it [00:00, 44035.53it/s]\n"
     ]
    }
   ],
   "source": [
    "documents = []\n",
    "for i, caption in tqdm(enumerate(lesson1.captions)):\n",
    "    start = caption.start\n",
    "    start_in_s = caption.start_in_seconds\n",
    "    passage = \"\"\n",
    "    while lesson1.captions[i].end_in_seconds - start_in_s <=15 and i < len(lesson1.captions)-1:\n",
    "        passage += \" \" + lesson1.captions[i].raw_text\n",
    "        i += 1\n",
    "#         if i > len(captions) -1:\n",
    "#             break\n",
    "    documents.append({\n",
    "    \"video_id\": 'lesson1',\n",
    "    \"text\": passage,\n",
    "    \"start_second\": start_in_s,\n",
    "    \"end_second\": lesson1.captions[i].end_in_seconds,\n",
    "    })\n",
    "        # average sentence length is 75-100 character"
   ]
  },
  {
   "cell_type": "markdown",
   "id": "29d9ab6e",
   "metadata": {},
   "source": [
    "We will loop through all of these files to give us the initial core dataset consisting of *video_id*, *text*, *start_second*, *end_second*, and *url*."
   ]
  },
  {
   "cell_type": "code",
   "execution_count": null,
   "id": "1669785d",
   "metadata": {},
   "outputs": [
    {
     "data": {
      "text/plain": [
       "[{'video_id': 'lesson1',\n",
       "  'text': \"  Welcome to practical deep learning for coders lesson one.  This is version five of this course.  And it's the first do one we've done in two years.\",\n",
       "  'start_second': 0.0,\n",
       "  'end_second': 17.96},\n",
       " {'video_id': 'lesson1',\n",
       "  'text': \"  This is version five of this course.  And it's the first do one we've done in two years.  So we've got a lot of cool things to cover.\",\n",
       "  'start_second': 6.6,\n",
       "  'end_second': 22.24},\n",
       " {'video_id': 'lesson1',\n",
       "  'text': \"  And it's the first do one we've done in two years.  So we've got a lot of cool things to cover.  It's amazing how much has changed.  Here is a XKCD from the end of 2015.\",\n",
       "  'start_second': 11.78,\n",
       "  'end_second': 31.2}]"
      ]
     },
     "execution_count": null,
     "metadata": {},
     "output_type": "execute_result"
    }
   ],
   "source": [
    "documents[:3]"
   ]
  },
  {
   "cell_type": "code",
   "execution_count": null,
   "id": "40f291e9",
   "metadata": {},
   "outputs": [],
   "source": [
    "import json\n",
    "\n",
    "with open(\"train.jsonl\", \"w\") as f:\n",
    "    for doc in documents:\n",
    "        json.dump(doc, f)\n",
    "        f.write('\\n')"
   ]
  },
  {
   "cell_type": "code",
   "execution_count": null,
   "id": "0cf4c356",
   "metadata": {},
   "outputs": [],
   "source": [
    "with open(\"train.jsonl\") as f:\n",
    "    d = f.readlines()"
   ]
  },
  {
   "cell_type": "code",
   "execution_count": null,
   "id": "c250d904",
   "metadata": {},
   "outputs": [
    {
     "data": {
      "text/plain": [
       "['{\"video_id\": \"lesson1\", \"text\": \"  Welcome to practical deep learning for coders lesson one.  This is version five of this course.  And it\\'s the first do one we\\'ve done in two years.\", \"start_second\": 0.0, \"end_second\": 17.96}\\n',\n",
       " '{\"video_id\": \"lesson1\", \"text\": \"  This is version five of this course.  And it\\'s the first do one we\\'ve done in two years.  So we\\'ve got a lot of cool things to cover.\", \"start_second\": 6.6, \"end_second\": 22.24}\\n',\n",
       " '{\"video_id\": \"lesson1\", \"text\": \"  And it\\'s the first do one we\\'ve done in two years.  So we\\'ve got a lot of cool things to cover.  It\\'s amazing how much has changed.  Here is a XKCD from the end of 2015.\", \"start_second\": 11.78, \"end_second\": 31.2}\\n']"
      ]
     },
     "execution_count": null,
     "metadata": {},
     "output_type": "execute_result"
    }
   ],
   "source": [
    "d[:3]"
   ]
  },
  {
   "cell_type": "code",
   "execution_count": null,
   "id": "81b70ad8",
   "metadata": {},
   "outputs": [],
   "source": []
  }
 ],
 "metadata": {
  "kernelspec": {
   "display_name": "Python 3 (ipykernel)",
   "language": "python",
   "name": "python3"
  }
 },
 "nbformat": 4,
 "nbformat_minor": 5
}
