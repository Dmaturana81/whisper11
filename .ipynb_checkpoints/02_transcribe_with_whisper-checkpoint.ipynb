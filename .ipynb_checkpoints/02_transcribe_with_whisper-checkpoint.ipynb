{
 "cells": [
  {
   "cell_type": "code",
<<<<<<< HEAD
   "execution_count": 8,
=======
   "execution_count": null,
>>>>>>> 5625b42e9c7fc7f9541b0395f102fa36508b6ee4
   "id": "40d3520b-cdfc-4808-b6cd-1427ea879160",
   "metadata": {},
   "outputs": [],
   "source": [
    "import os\n",
    "import torch\n",
    "import whisper\n",
    "import numpy as np\n",
    "from tqdm.notebook import tqdm\n",
    "from pathlib import Path\n",
    "from whisper.utils import write_vtt"
   ]
  },
  {
   "cell_type": "code",
<<<<<<< HEAD
   "execution_count": 2,
=======
   "execution_count": null,
>>>>>>> 5625b42e9c7fc7f9541b0395f102fa36508b6ee4
   "id": "1728b728-8d9e-465e-a6c2-018ee346e406",
   "metadata": {},
   "outputs": [],
   "source": [
    "DEVICE = \"cuda\" if torch.cuda.is_available() else \"cpu\""
   ]
  },
  {
   "cell_type": "code",
<<<<<<< HEAD
   "execution_count": 3,
=======
   "execution_count": null,
>>>>>>> 5625b42e9c7fc7f9541b0395f102fa36508b6ee4
   "id": "ed24b53b-c0b8-45e1-809b-ee8ca9a8b155",
   "metadata": {},
   "outputs": [],
   "source": [
    "model = whisper.load_model(\"base.en\").to(DEVICE)"
   ]
  },
  {
   "cell_type": "code",
<<<<<<< HEAD
   "execution_count": 9,
=======
   "execution_count": null,
>>>>>>> 5625b42e9c7fc7f9541b0395f102fa36508b6ee4
   "id": "61e1c281-bc21-4193-a45c-9878558d96fd",
   "metadata": {},
   "outputs": [],
   "source": [
    "def transcribe_files(model, files):\n",
    "    print(f\"Model is {'multilingual' if model.is_multilingual else 'English-only'} \"\n",
    "          f\"and has {sum(np.prod(p.shape) for p in model.parameters()):,} parameters.\"\n",
    "         )\n",
    "    for input_file in tqdm(files):\n",
    "        print(f\"Transcribing file: {input_file}\")\n",
    "        result = model.transcribe(str(input_file), verbose=False, language=\"en\", )\n",
    "\n",
    "        # save TXT\n",
    "        with open(input_file.with_suffix(\".txt\"), \"w\", encoding=\"utf-8\") as txt:\n",
    "            print(result[\"text\"], file=txt)\n",
    "\n",
    "        # save VTT\n",
    "        with open(input_file.with_suffix(\".vtt\"), \"w\", encoding=\"utf-8\") as vtt:\n",
    "            write_vtt(result[\"segments\"], file=vtt)"
   ]
  },
  {
   "cell_type": "code",
<<<<<<< HEAD
   "execution_count": 10,
=======
   "execution_count": null,
>>>>>>> 5625b42e9c7fc7f9541b0395f102fa36508b6ee4
   "id": "ec4975ce-8cc4-4f00-8839-0daee1ce2c80",
   "metadata": {},
   "outputs": [],
   "source": [
    "files = list(Path(\"fastai_transcripts\").glob(\"*.mp4\"))"
   ]
  },
  {
   "cell_type": "code",
<<<<<<< HEAD
   "execution_count": 11,
=======
   "execution_count": null,
>>>>>>> 5625b42e9c7fc7f9541b0395f102fa36508b6ee4
   "id": "c5d44a53-51d9-4f35-a899-8aabc2abd0c1",
   "metadata": {},
   "outputs": [
    {
     "name": "stdout",
     "output_type": "stream",
     "text": [
      "Model is English-only and has 71,825,408 parameters.\n"
     ]
    },
    {
     "data": {
      "application/vnd.jupyter.widget-view+json": {
       "model_id": "acead302f32248629ad488480456ffae",
       "version_major": 2,
       "version_minor": 0
      },
      "text/plain": [
       "  0%|          | 0/8 [00:00<?, ?it/s]"
      ]
     },
     "metadata": {},
     "output_type": "display_data"
    },
    {
     "name": "stdout",
     "output_type": "stream",
     "text": [
      "Transcribing file: fastai_transcripts/lesson_2_practical_deep_learning_for_coders_2022.mp4\n",
      "Transcribing file: fastai_transcripts/lesson_3_practical_deep_learning_for_coders_2022.mp4\n",
      "Transcribing file: fastai_transcripts/lesson_7_practical_deep_learning_for_coders_2022.mp4\n",
      "Transcribing file: fastai_transcripts/lesson_6_practical_deep_learning_for_coders_2022.mp4\n",
      "Transcribing file: fastai_transcripts/lesson_4_practical_deep_learning_for_coders_2022.mp4\n",
      "Transcribing file: fastai_transcripts/lesson_8_-_practical_deep_learning_for_coders_2022.mp4\n",
      "Transcribing file: fastai_transcripts/lesson_1_practical_deep_learning_for_coders_2022.mp4\n",
      "Transcribing file: fastai_transcripts/lesson_5_practical_deep_learning_for_coders_2022.mp4\n"
     ]
    }
   ],
   "source": [
    "transcribe_files(model, files)"
   ]
  }
 ],
 "metadata": {
  "kernelspec": {
   "display_name": "Python 3 (ipykernel)",
   "language": "python",
   "name": "python3"
<<<<<<< HEAD
  },
  "language_info": {
   "codemirror_mode": {
    "name": "ipython",
    "version": 3
   },
   "file_extension": ".py",
   "mimetype": "text/x-python",
   "name": "python",
   "nbconvert_exporter": "python",
   "pygments_lexer": "ipython3",
   "version": "3.10.4"
=======
>>>>>>> 5625b42e9c7fc7f9541b0395f102fa36508b6ee4
  }
 },
 "nbformat": 4,
 "nbformat_minor": 5
}
