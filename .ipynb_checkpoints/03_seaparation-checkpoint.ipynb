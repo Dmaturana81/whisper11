{
 "cells": [
  {
   "cell_type": "code",
   "execution_count": 2,
   "metadata": {},
   "outputs": [
    {
     "name": "stdout",
     "output_type": "stream",
     "text": [
      "Loaded as API: https://younver-speechbrain-speech-separation.hf.space/--replicas/2b72xkb68/ ✔\n"
     ]
    },
    {
     "ename": "ConnectionClosedError",
     "evalue": "sent 1011 (unexpected error) keepalive ping timeout; no close frame received",
     "output_type": "error",
     "traceback": [
      "\u001b[0;31m---------------------------------------------------------------------------\u001b[0m",
      "\u001b[0;31mCancelledError\u001b[0m                            Traceback (most recent call last)",
      "File \u001b[0;32m~/.local/share/virtualenvs/whisper-uhiak0KN/lib/python3.11/site-packages/websockets/legacy/protocol.py:1302\u001b[0m, in \u001b[0;36mWebSocketCommonProtocol.close_connection\u001b[0;34m(self)\u001b[0m\n\u001b[1;32m   1301\u001b[0m \u001b[39mtry\u001b[39;00m:\n\u001b[0;32m-> 1302\u001b[0m     \u001b[39mawait\u001b[39;00m \u001b[39mself\u001b[39m\u001b[39m.\u001b[39mtransfer_data_task\n\u001b[1;32m   1303\u001b[0m \u001b[39mexcept\u001b[39;00m asyncio\u001b[39m.\u001b[39mCancelledError:\n",
      "File \u001b[0;32m~/.local/share/virtualenvs/whisper-uhiak0KN/lib/python3.11/site-packages/websockets/legacy/protocol.py:959\u001b[0m, in \u001b[0;36mWebSocketCommonProtocol.transfer_data\u001b[0;34m(self)\u001b[0m\n\u001b[1;32m    958\u001b[0m \u001b[39mwhile\u001b[39;00m \u001b[39mTrue\u001b[39;00m:\n\u001b[0;32m--> 959\u001b[0m     message \u001b[39m=\u001b[39m \u001b[39mawait\u001b[39;00m \u001b[39mself\u001b[39m\u001b[39m.\u001b[39mread_message()\n\u001b[1;32m    961\u001b[0m     \u001b[39m# Exit the loop when receiving a close frame.\u001b[39;00m\n",
      "File \u001b[0;32m~/.local/share/virtualenvs/whisper-uhiak0KN/lib/python3.11/site-packages/websockets/legacy/protocol.py:1029\u001b[0m, in \u001b[0;36mWebSocketCommonProtocol.read_message\u001b[0;34m(self)\u001b[0m\n\u001b[1;32m   1021\u001b[0m \u001b[39m\u001b[39m\u001b[39m\"\"\"\u001b[39;00m\n\u001b[1;32m   1022\u001b[0m \u001b[39mRead a single message from the connection.\u001b[39;00m\n\u001b[1;32m   1023\u001b[0m \n\u001b[0;32m   (...)\u001b[0m\n\u001b[1;32m   1027\u001b[0m \n\u001b[1;32m   1028\u001b[0m \u001b[39m\"\"\"\u001b[39;00m\n\u001b[0;32m-> 1029\u001b[0m frame \u001b[39m=\u001b[39m \u001b[39mawait\u001b[39;00m \u001b[39mself\u001b[39m\u001b[39m.\u001b[39mread_data_frame(max_size\u001b[39m=\u001b[39m\u001b[39mself\u001b[39m\u001b[39m.\u001b[39mmax_size)\n\u001b[1;32m   1031\u001b[0m \u001b[39m# A close frame was received.\u001b[39;00m\n",
      "File \u001b[0;32m~/.local/share/virtualenvs/whisper-uhiak0KN/lib/python3.11/site-packages/websockets/legacy/protocol.py:1104\u001b[0m, in \u001b[0;36mWebSocketCommonProtocol.read_data_frame\u001b[0;34m(self, max_size)\u001b[0m\n\u001b[1;32m   1103\u001b[0m \u001b[39mwhile\u001b[39;00m \u001b[39mTrue\u001b[39;00m:\n\u001b[0;32m-> 1104\u001b[0m     frame \u001b[39m=\u001b[39m \u001b[39mawait\u001b[39;00m \u001b[39mself\u001b[39m\u001b[39m.\u001b[39mread_frame(max_size)\n\u001b[1;32m   1106\u001b[0m     \u001b[39m# 5.5. Control Frames\u001b[39;00m\n",
      "File \u001b[0;32m~/.local/share/virtualenvs/whisper-uhiak0KN/lib/python3.11/site-packages/websockets/legacy/protocol.py:1161\u001b[0m, in \u001b[0;36mWebSocketCommonProtocol.read_frame\u001b[0;34m(self, max_size)\u001b[0m\n\u001b[1;32m   1157\u001b[0m \u001b[39m\u001b[39m\u001b[39m\"\"\"\u001b[39;00m\n\u001b[1;32m   1158\u001b[0m \u001b[39mRead a single frame from the connection.\u001b[39;00m\n\u001b[1;32m   1159\u001b[0m \n\u001b[1;32m   1160\u001b[0m \u001b[39m\"\"\"\u001b[39;00m\n\u001b[0;32m-> 1161\u001b[0m frame \u001b[39m=\u001b[39m \u001b[39mawait\u001b[39;00m Frame\u001b[39m.\u001b[39mread(\n\u001b[1;32m   1162\u001b[0m     \u001b[39mself\u001b[39m\u001b[39m.\u001b[39mreader\u001b[39m.\u001b[39mreadexactly,\n\u001b[1;32m   1163\u001b[0m     mask\u001b[39m=\u001b[39m\u001b[39mnot\u001b[39;00m \u001b[39mself\u001b[39m\u001b[39m.\u001b[39mis_client,\n\u001b[1;32m   1164\u001b[0m     max_size\u001b[39m=\u001b[39mmax_size,\n\u001b[1;32m   1165\u001b[0m     extensions\u001b[39m=\u001b[39m\u001b[39mself\u001b[39m\u001b[39m.\u001b[39mextensions,\n\u001b[1;32m   1166\u001b[0m )\n\u001b[1;32m   1167\u001b[0m \u001b[39mif\u001b[39;00m \u001b[39mself\u001b[39m\u001b[39m.\u001b[39mdebug:\n",
      "File \u001b[0;32m~/.local/share/virtualenvs/whisper-uhiak0KN/lib/python3.11/site-packages/websockets/legacy/framing.py:68\u001b[0m, in \u001b[0;36mFrame.read\u001b[0;34m(cls, reader, mask, max_size, extensions)\u001b[0m\n\u001b[1;32m     67\u001b[0m \u001b[39m# Read the header.\u001b[39;00m\n\u001b[0;32m---> 68\u001b[0m data \u001b[39m=\u001b[39m \u001b[39mawait\u001b[39;00m reader(\u001b[39m2\u001b[39m)\n\u001b[1;32m     69\u001b[0m head1, head2 \u001b[39m=\u001b[39m struct\u001b[39m.\u001b[39munpack(\u001b[39m\"\u001b[39m\u001b[39m!BB\u001b[39m\u001b[39m\"\u001b[39m, data)\n",
      "File \u001b[0;32m/Library/Frameworks/Python.framework/Versions/3.11/lib/python3.11/asyncio/streams.py:728\u001b[0m, in \u001b[0;36mStreamReader.readexactly\u001b[0;34m(self, n)\u001b[0m\n\u001b[1;32m    726\u001b[0m         \u001b[39mraise\u001b[39;00m exceptions\u001b[39m.\u001b[39mIncompleteReadError(incomplete, n)\n\u001b[0;32m--> 728\u001b[0m     \u001b[39mawait\u001b[39;00m \u001b[39mself\u001b[39m\u001b[39m.\u001b[39m_wait_for_data(\u001b[39m'\u001b[39m\u001b[39mreadexactly\u001b[39m\u001b[39m'\u001b[39m)\n\u001b[1;32m    730\u001b[0m \u001b[39mif\u001b[39;00m \u001b[39mlen\u001b[39m(\u001b[39mself\u001b[39m\u001b[39m.\u001b[39m_buffer) \u001b[39m==\u001b[39m n:\n",
      "File \u001b[0;32m/Library/Frameworks/Python.framework/Versions/3.11/lib/python3.11/asyncio/streams.py:522\u001b[0m, in \u001b[0;36mStreamReader._wait_for_data\u001b[0;34m(self, func_name)\u001b[0m\n\u001b[1;32m    521\u001b[0m \u001b[39mtry\u001b[39;00m:\n\u001b[0;32m--> 522\u001b[0m     \u001b[39mawait\u001b[39;00m \u001b[39mself\u001b[39m\u001b[39m.\u001b[39m_waiter\n\u001b[1;32m    523\u001b[0m \u001b[39mfinally\u001b[39;00m:\n",
      "\u001b[0;31mCancelledError\u001b[0m: ",
      "\nThe above exception was the direct cause of the following exception:\n",
      "\u001b[0;31mConnectionClosedError\u001b[0m                     Traceback (most recent call last)",
      "\u001b[1;32m/Users/matu/Documents/Xcode/whisper/03_seaparation.ipynb Celda 2\u001b[0m line \u001b[0;36m4\n\u001b[1;32m      <a href='vscode-notebook-cell:/Users/matu/Documents/Xcode/whisper/03_seaparation.ipynb#W1sZmlsZQ%3D%3D?line=0'>1</a>\u001b[0m \u001b[39mfrom\u001b[39;00m \u001b[39mgradio_client\u001b[39;00m \u001b[39mimport\u001b[39;00m Client\n\u001b[1;32m      <a href='vscode-notebook-cell:/Users/matu/Documents/Xcode/whisper/03_seaparation.ipynb#W1sZmlsZQ%3D%3D?line=2'>3</a>\u001b[0m client \u001b[39m=\u001b[39m Client(\u001b[39m\"\u001b[39m\u001b[39mhttps://younver-speechbrain-speech-separation.hf.space/--replicas/2b72xkb68/\u001b[39m\u001b[39m\"\u001b[39m)\n\u001b[0;32m----> <a href='vscode-notebook-cell:/Users/matu/Documents/Xcode/whisper/03_seaparation.ipynb#W1sZmlsZQ%3D%3D?line=3'>4</a>\u001b[0m result \u001b[39m=\u001b[39m client\u001b[39m.\u001b[39;49mpredict(\n\u001b[1;32m      <a href='vscode-notebook-cell:/Users/matu/Documents/Xcode/whisper/03_seaparation.ipynb#W1sZmlsZQ%3D%3D?line=4'>5</a>\u001b[0m \t\t\u001b[39m\"\u001b[39;49m\u001b[39mAudios/Biden/biden1.mp3\u001b[39;49m\u001b[39m\"\u001b[39;49m,\t\u001b[39m# str (filepath on your computer (or URL) of file) in 'Input Audio' Audio component\u001b[39;49;00m\n\u001b[1;32m      <a href='vscode-notebook-cell:/Users/matu/Documents/Xcode/whisper/03_seaparation.ipynb#W1sZmlsZQ%3D%3D?line=5'>6</a>\u001b[0m \t\tapi_name\u001b[39m=\u001b[39;49m\u001b[39m\"\u001b[39;49m\u001b[39m/predict\u001b[39;49m\u001b[39m\"\u001b[39;49m\n\u001b[1;32m      <a href='vscode-notebook-cell:/Users/matu/Documents/Xcode/whisper/03_seaparation.ipynb#W1sZmlsZQ%3D%3D?line=6'>7</a>\u001b[0m )\n\u001b[1;32m      <a href='vscode-notebook-cell:/Users/matu/Documents/Xcode/whisper/03_seaparation.ipynb#W1sZmlsZQ%3D%3D?line=7'>8</a>\u001b[0m \u001b[39mprint\u001b[39m(result)\n",
      "File \u001b[0;32m~/.local/share/virtualenvs/whisper-uhiak0KN/lib/python3.11/site-packages/gradio_client/client.py:305\u001b[0m, in \u001b[0;36mClient.predict\u001b[0;34m(self, api_name, fn_index, *args)\u001b[0m\n\u001b[1;32m    301\u001b[0m \u001b[39mif\u001b[39;00m \u001b[39mself\u001b[39m\u001b[39m.\u001b[39mendpoints[inferred_fn_index]\u001b[39m.\u001b[39mis_continuous:\n\u001b[1;32m    302\u001b[0m     \u001b[39mraise\u001b[39;00m \u001b[39mValueError\u001b[39;00m(\n\u001b[1;32m    303\u001b[0m         \u001b[39m\"\u001b[39m\u001b[39mCannot call predict on this function as it may run forever. Use submit instead.\u001b[39m\u001b[39m\"\u001b[39m\n\u001b[1;32m    304\u001b[0m     )\n\u001b[0;32m--> 305\u001b[0m \u001b[39mreturn\u001b[39;00m \u001b[39mself\u001b[39;49m\u001b[39m.\u001b[39;49msubmit(\u001b[39m*\u001b[39;49margs, api_name\u001b[39m=\u001b[39;49mapi_name, fn_index\u001b[39m=\u001b[39;49mfn_index)\u001b[39m.\u001b[39;49mresult()\n",
      "File \u001b[0;32m~/.local/share/virtualenvs/whisper-uhiak0KN/lib/python3.11/site-packages/gradio_client/client.py:1456\u001b[0m, in \u001b[0;36mJob.result\u001b[0;34m(self, timeout)\u001b[0m\n\u001b[1;32m   1441\u001b[0m \u001b[39mdef\u001b[39;00m \u001b[39mresult\u001b[39m(\u001b[39mself\u001b[39m, timeout: \u001b[39mfloat\u001b[39m \u001b[39m|\u001b[39m \u001b[39mNone\u001b[39;00m \u001b[39m=\u001b[39m \u001b[39mNone\u001b[39;00m) \u001b[39m-\u001b[39m\u001b[39m>\u001b[39m Any:\n\u001b[1;32m   1442\u001b[0m \u001b[39m    \u001b[39m\u001b[39m\"\"\"\u001b[39;00m\n\u001b[1;32m   1443\u001b[0m \u001b[39m    Return the result of the call that the future represents. Raises CancelledError: If the future was cancelled, TimeoutError: If the future didn't finish executing before the given timeout, and Exception: If the call raised then that exception will be raised.\u001b[39;00m\n\u001b[1;32m   1444\u001b[0m \n\u001b[0;32m   (...)\u001b[0m\n\u001b[1;32m   1454\u001b[0m \u001b[39m        >> 9\u001b[39;00m\n\u001b[1;32m   1455\u001b[0m \u001b[39m    \"\"\"\u001b[39;00m\n\u001b[0;32m-> 1456\u001b[0m     \u001b[39mreturn\u001b[39;00m \u001b[39msuper\u001b[39;49m()\u001b[39m.\u001b[39;49mresult(timeout\u001b[39m=\u001b[39;49mtimeout)\n",
      "File \u001b[0;32m/Library/Frameworks/Python.framework/Versions/3.11/lib/python3.11/concurrent/futures/_base.py:456\u001b[0m, in \u001b[0;36mFuture.result\u001b[0;34m(self, timeout)\u001b[0m\n\u001b[1;32m    454\u001b[0m     \u001b[39mraise\u001b[39;00m CancelledError()\n\u001b[1;32m    455\u001b[0m \u001b[39melif\u001b[39;00m \u001b[39mself\u001b[39m\u001b[39m.\u001b[39m_state \u001b[39m==\u001b[39m FINISHED:\n\u001b[0;32m--> 456\u001b[0m     \u001b[39mreturn\u001b[39;00m \u001b[39mself\u001b[39;49m\u001b[39m.\u001b[39;49m__get_result()\n\u001b[1;32m    457\u001b[0m \u001b[39melse\u001b[39;00m:\n\u001b[1;32m    458\u001b[0m     \u001b[39mraise\u001b[39;00m \u001b[39mTimeoutError\u001b[39;00m()\n",
      "File \u001b[0;32m/Library/Frameworks/Python.framework/Versions/3.11/lib/python3.11/concurrent/futures/_base.py:401\u001b[0m, in \u001b[0;36mFuture.__get_result\u001b[0;34m(self)\u001b[0m\n\u001b[1;32m    399\u001b[0m \u001b[39mif\u001b[39;00m \u001b[39mself\u001b[39m\u001b[39m.\u001b[39m_exception:\n\u001b[1;32m    400\u001b[0m     \u001b[39mtry\u001b[39;00m:\n\u001b[0;32m--> 401\u001b[0m         \u001b[39mraise\u001b[39;00m \u001b[39mself\u001b[39m\u001b[39m.\u001b[39m_exception\n\u001b[1;32m    402\u001b[0m     \u001b[39mfinally\u001b[39;00m:\n\u001b[1;32m    403\u001b[0m         \u001b[39m# Break a reference cycle with the exception in self._exception\u001b[39;00m\n\u001b[1;32m    404\u001b[0m         \u001b[39mself\u001b[39m \u001b[39m=\u001b[39m \u001b[39mNone\u001b[39;00m\n",
      "File \u001b[0;32m/Library/Frameworks/Python.framework/Versions/3.11/lib/python3.11/concurrent/futures/thread.py:58\u001b[0m, in \u001b[0;36m_WorkItem.run\u001b[0;34m(self)\u001b[0m\n\u001b[1;32m     55\u001b[0m     \u001b[39mreturn\u001b[39;00m\n\u001b[1;32m     57\u001b[0m \u001b[39mtry\u001b[39;00m:\n\u001b[0;32m---> 58\u001b[0m     result \u001b[39m=\u001b[39m \u001b[39mself\u001b[39;49m\u001b[39m.\u001b[39;49mfn(\u001b[39m*\u001b[39;49m\u001b[39mself\u001b[39;49m\u001b[39m.\u001b[39;49margs, \u001b[39m*\u001b[39;49m\u001b[39m*\u001b[39;49m\u001b[39mself\u001b[39;49m\u001b[39m.\u001b[39;49mkwargs)\n\u001b[1;32m     59\u001b[0m \u001b[39mexcept\u001b[39;00m \u001b[39mBaseException\u001b[39;00m \u001b[39mas\u001b[39;00m exc:\n\u001b[1;32m     60\u001b[0m     \u001b[39mself\u001b[39m\u001b[39m.\u001b[39mfuture\u001b[39m.\u001b[39mset_exception(exc)\n",
      "File \u001b[0;32m~/.local/share/virtualenvs/whisper-uhiak0KN/lib/python3.11/site-packages/gradio_client/client.py:1126\u001b[0m, in \u001b[0;36mEndpointV3Compatibility.make_end_to_end_fn.<locals>._inner\u001b[0;34m(*data)\u001b[0m\n\u001b[1;32m   1124\u001b[0m \u001b[39mif\u001b[39;00m \u001b[39mself\u001b[39m\u001b[39m.\u001b[39mclient\u001b[39m.\u001b[39mserialize:\n\u001b[1;32m   1125\u001b[0m     data \u001b[39m=\u001b[39m \u001b[39mself\u001b[39m\u001b[39m.\u001b[39mserialize(\u001b[39m*\u001b[39mdata)\n\u001b[0;32m-> 1126\u001b[0m predictions \u001b[39m=\u001b[39m _predict(\u001b[39m*\u001b[39;49mdata)\n\u001b[1;32m   1127\u001b[0m predictions \u001b[39m=\u001b[39m \u001b[39mself\u001b[39m\u001b[39m.\u001b[39mprocess_predictions(\u001b[39m*\u001b[39mpredictions)\n\u001b[1;32m   1128\u001b[0m \u001b[39m# Append final output only if not already present\u001b[39;00m\n\u001b[1;32m   1129\u001b[0m \u001b[39m# for consistency between generators and not generators\u001b[39;00m\n",
      "File \u001b[0;32m~/.local/share/virtualenvs/whisper-uhiak0KN/lib/python3.11/site-packages/gradio_client/client.py:1154\u001b[0m, in \u001b[0;36mEndpointV3Compatibility.make_predict.<locals>._predict\u001b[0;34m(*data)\u001b[0m\n\u001b[1;32m   1147\u001b[0m hash_data \u001b[39m=\u001b[39m json\u001b[39m.\u001b[39mdumps(\n\u001b[1;32m   1148\u001b[0m     {\n\u001b[1;32m   1149\u001b[0m         \u001b[39m\"\u001b[39m\u001b[39mfn_index\u001b[39m\u001b[39m\"\u001b[39m: \u001b[39mself\u001b[39m\u001b[39m.\u001b[39mfn_index,\n\u001b[1;32m   1150\u001b[0m         \u001b[39m\"\u001b[39m\u001b[39msession_hash\u001b[39m\u001b[39m\"\u001b[39m: \u001b[39mself\u001b[39m\u001b[39m.\u001b[39mclient\u001b[39m.\u001b[39msession_hash,\n\u001b[1;32m   1151\u001b[0m     }\n\u001b[1;32m   1152\u001b[0m )\n\u001b[1;32m   1153\u001b[0m \u001b[39mif\u001b[39;00m \u001b[39mself\u001b[39m\u001b[39m.\u001b[39muse_ws:\n\u001b[0;32m-> 1154\u001b[0m     result \u001b[39m=\u001b[39m utils\u001b[39m.\u001b[39;49msynchronize_async(\u001b[39mself\u001b[39;49m\u001b[39m.\u001b[39;49m_ws_fn, data, hash_data, helper)\n\u001b[1;32m   1155\u001b[0m     \u001b[39mif\u001b[39;00m \u001b[39m\"\u001b[39m\u001b[39merror\u001b[39m\u001b[39m\"\u001b[39m \u001b[39min\u001b[39;00m result:\n\u001b[1;32m   1156\u001b[0m         \u001b[39mraise\u001b[39;00m \u001b[39mValueError\u001b[39;00m(result[\u001b[39m\"\u001b[39m\u001b[39merror\u001b[39m\u001b[39m\"\u001b[39m])\n",
      "File \u001b[0;32m~/.local/share/virtualenvs/whisper-uhiak0KN/lib/python3.11/site-packages/gradio_client/utils.py:664\u001b[0m, in \u001b[0;36msynchronize_async\u001b[0;34m(func, *args, **kwargs)\u001b[0m\n\u001b[1;32m    651\u001b[0m \u001b[39mdef\u001b[39;00m \u001b[39msynchronize_async\u001b[39m(func: Callable, \u001b[39m*\u001b[39margs, \u001b[39m*\u001b[39m\u001b[39m*\u001b[39mkwargs) \u001b[39m-\u001b[39m\u001b[39m>\u001b[39m Any:\n\u001b[1;32m    652\u001b[0m \u001b[39m    \u001b[39m\u001b[39m\"\"\"\u001b[39;00m\n\u001b[1;32m    653\u001b[0m \u001b[39m    Runs async functions in sync scopes. Can be used in any scope.\u001b[39;00m\n\u001b[1;32m    654\u001b[0m \n\u001b[0;32m   (...)\u001b[0m\n\u001b[1;32m    662\u001b[0m \u001b[39m        **kwargs:\u001b[39;00m\n\u001b[1;32m    663\u001b[0m \u001b[39m    \"\"\"\u001b[39;00m\n\u001b[0;32m--> 664\u001b[0m     \u001b[39mreturn\u001b[39;00m fsspec\u001b[39m.\u001b[39;49masyn\u001b[39m.\u001b[39;49msync(fsspec\u001b[39m.\u001b[39;49masyn\u001b[39m.\u001b[39;49mget_loop(), func, \u001b[39m*\u001b[39;49margs, \u001b[39m*\u001b[39;49m\u001b[39m*\u001b[39;49mkwargs)\n",
      "File \u001b[0;32m~/.local/share/virtualenvs/whisper-uhiak0KN/lib/python3.11/site-packages/fsspec/asyn.py:103\u001b[0m, in \u001b[0;36msync\u001b[0;34m(loop, func, timeout, *args, **kwargs)\u001b[0m\n\u001b[1;32m    101\u001b[0m     \u001b[39mraise\u001b[39;00m FSTimeoutError \u001b[39mfrom\u001b[39;00m \u001b[39mreturn_result\u001b[39;00m\n\u001b[1;32m    102\u001b[0m \u001b[39melif\u001b[39;00m \u001b[39misinstance\u001b[39m(return_result, \u001b[39mBaseException\u001b[39;00m):\n\u001b[0;32m--> 103\u001b[0m     \u001b[39mraise\u001b[39;00m return_result\n\u001b[1;32m    104\u001b[0m \u001b[39melse\u001b[39;00m:\n\u001b[1;32m    105\u001b[0m     \u001b[39mreturn\u001b[39;00m return_result\n",
      "File \u001b[0;32m~/.local/share/virtualenvs/whisper-uhiak0KN/lib/python3.11/site-packages/fsspec/asyn.py:56\u001b[0m, in \u001b[0;36m_runner\u001b[0;34m(event, coro, result, timeout)\u001b[0m\n\u001b[1;32m     54\u001b[0m     coro \u001b[39m=\u001b[39m asyncio\u001b[39m.\u001b[39mwait_for(coro, timeout\u001b[39m=\u001b[39mtimeout)\n\u001b[1;32m     55\u001b[0m \u001b[39mtry\u001b[39;00m:\n\u001b[0;32m---> 56\u001b[0m     result[\u001b[39m0\u001b[39m] \u001b[39m=\u001b[39m \u001b[39mawait\u001b[39;00m coro\n\u001b[1;32m     57\u001b[0m \u001b[39mexcept\u001b[39;00m \u001b[39mException\u001b[39;00m \u001b[39mas\u001b[39;00m ex:\n\u001b[1;32m     58\u001b[0m     result[\u001b[39m0\u001b[39m] \u001b[39m=\u001b[39m ex\n",
      "File \u001b[0;32m~/.local/share/virtualenvs/whisper-uhiak0KN/lib/python3.11/site-packages/gradio_client/client.py:1390\u001b[0m, in \u001b[0;36mEndpointV3Compatibility._ws_fn\u001b[0;34m(self, data, hash_data, helper)\u001b[0m\n\u001b[1;32m   1383\u001b[0m \u001b[39masync\u001b[39;00m \u001b[39mdef\u001b[39;00m \u001b[39m_ws_fn\u001b[39m(\u001b[39mself\u001b[39m, data, hash_data, helper: Communicator):\n\u001b[1;32m   1384\u001b[0m     \u001b[39masync\u001b[39;00m \u001b[39mwith\u001b[39;00m websockets\u001b[39m.\u001b[39mconnect(  \u001b[39m# type: ignore\u001b[39;00m\n\u001b[1;32m   1385\u001b[0m         \u001b[39mself\u001b[39m\u001b[39m.\u001b[39mclient\u001b[39m.\u001b[39mws_url,\n\u001b[1;32m   1386\u001b[0m         open_timeout\u001b[39m=\u001b[39m\u001b[39m10\u001b[39m,\n\u001b[1;32m   1387\u001b[0m         extra_headers\u001b[39m=\u001b[39m\u001b[39mself\u001b[39m\u001b[39m.\u001b[39mclient\u001b[39m.\u001b[39mheaders,\n\u001b[1;32m   1388\u001b[0m         max_size\u001b[39m=\u001b[39m\u001b[39m1024\u001b[39m \u001b[39m*\u001b[39m \u001b[39m1024\u001b[39m \u001b[39m*\u001b[39m \u001b[39m1024\u001b[39m,\n\u001b[1;32m   1389\u001b[0m     ) \u001b[39mas\u001b[39;00m websocket:\n\u001b[0;32m-> 1390\u001b[0m         \u001b[39mreturn\u001b[39;00m \u001b[39mawait\u001b[39;00m utils\u001b[39m.\u001b[39mget_pred_from_ws(websocket, data, hash_data, helper)\n",
      "File \u001b[0;32m~/.local/share/virtualenvs/whisper-uhiak0KN/lib/python3.11/site-packages/gradio_client/utils.py:277\u001b[0m, in \u001b[0;36mget_pred_from_ws\u001b[0;34m(websocket, data, hash_data, helper)\u001b[0m\n\u001b[1;32m    275\u001b[0m     \u001b[39m# Need to suspend this coroutine so that task actually runs\u001b[39;00m\n\u001b[1;32m    276\u001b[0m     \u001b[39mawait\u001b[39;00m asyncio\u001b[39m.\u001b[39msleep(\u001b[39m0.01\u001b[39m)\n\u001b[0;32m--> 277\u001b[0m msg \u001b[39m=\u001b[39m task\u001b[39m.\u001b[39mresult()\n\u001b[1;32m    278\u001b[0m resp \u001b[39m=\u001b[39m json\u001b[39m.\u001b[39mloads(msg)\n\u001b[1;32m    279\u001b[0m \u001b[39mif\u001b[39;00m helper:\n",
      "File \u001b[0;32m~/.local/share/virtualenvs/whisper-uhiak0KN/lib/python3.11/site-packages/websockets/legacy/protocol.py:568\u001b[0m, in \u001b[0;36mWebSocketCommonProtocol.recv\u001b[0;34m(self)\u001b[0m\n\u001b[1;32m    564\u001b[0m             \u001b[39mreturn\u001b[39;00m \u001b[39mNone\u001b[39;00m  \u001b[39m# type: ignore\u001b[39;00m\n\u001b[1;32m    565\u001b[0m         \u001b[39melse\u001b[39;00m:\n\u001b[1;32m    566\u001b[0m             \u001b[39m# Wait until the connection is closed to raise\u001b[39;00m\n\u001b[1;32m    567\u001b[0m             \u001b[39m# ConnectionClosed with the correct code and reason.\u001b[39;00m\n\u001b[0;32m--> 568\u001b[0m             \u001b[39mawait\u001b[39;00m \u001b[39mself\u001b[39m\u001b[39m.\u001b[39mensure_open()\n\u001b[1;32m    570\u001b[0m \u001b[39m# Pop a message from the queue.\u001b[39;00m\n\u001b[1;32m    571\u001b[0m message \u001b[39m=\u001b[39m \u001b[39mself\u001b[39m\u001b[39m.\u001b[39mmessages\u001b[39m.\u001b[39mpopleft()\n",
      "File \u001b[0;32m~/.local/share/virtualenvs/whisper-uhiak0KN/lib/python3.11/site-packages/websockets/legacy/protocol.py:944\u001b[0m, in \u001b[0;36mWebSocketCommonProtocol.ensure_open\u001b[0;34m(self)\u001b[0m\n\u001b[1;32m    937\u001b[0m \u001b[39mif\u001b[39;00m \u001b[39mself\u001b[39m\u001b[39m.\u001b[39mstate \u001b[39mis\u001b[39;00m State\u001b[39m.\u001b[39mCLOSING:\n\u001b[1;32m    938\u001b[0m     \u001b[39m# If we started the closing handshake, wait for its completion to\u001b[39;00m\n\u001b[1;32m    939\u001b[0m     \u001b[39m# get the proper close code and reason. self.close_connection_task\u001b[39;00m\n\u001b[1;32m    940\u001b[0m     \u001b[39m# will complete within 4 or 5 * close_timeout after close(). The\u001b[39;00m\n\u001b[1;32m    941\u001b[0m     \u001b[39m# CLOSING state also occurs when failing the connection. In that\u001b[39;00m\n\u001b[1;32m    942\u001b[0m     \u001b[39m# case self.close_connection_task will complete even faster.\u001b[39;00m\n\u001b[1;32m    943\u001b[0m     \u001b[39mawait\u001b[39;00m asyncio\u001b[39m.\u001b[39mshield(\u001b[39mself\u001b[39m\u001b[39m.\u001b[39mclose_connection_task)\n\u001b[0;32m--> 944\u001b[0m     \u001b[39mraise\u001b[39;00m \u001b[39mself\u001b[39m\u001b[39m.\u001b[39mconnection_closed_exc()\n\u001b[1;32m    946\u001b[0m \u001b[39m# Control may only reach this point in buggy third-party subclasses.\u001b[39;00m\n\u001b[1;32m    947\u001b[0m \u001b[39massert\u001b[39;00m \u001b[39mself\u001b[39m\u001b[39m.\u001b[39mstate \u001b[39mis\u001b[39;00m State\u001b[39m.\u001b[39mCONNECTING\n",
      "\u001b[0;31mConnectionClosedError\u001b[0m: sent 1011 (unexpected error) keepalive ping timeout; no close frame received"
     ]
    }
   ],
   "source": [
    "from gradio_client import Client\n",
    "\n",
    "client = Client(\"https://younver-speechbrain-speech-separation.hf.space/--replicas/2b72xkb68/\")\n",
    "result = client.predict(\n",
    "\t\t\"Audios/Biden/biden1.mp3\",\t# str (filepath on your computer (or URL) of file) in 'Input Audio' Audio component\n",
    "\t\tapi_name=\"/predict\"\n",
    ")\n",
    "print(result)"
   ]
  },
  {
   "cell_type": "code",
   "execution_count": 8,
   "metadata": {},
   "outputs": [
    {
     "ename": "ModuleNotFoundError",
     "evalue": "No module named 'google'",
     "output_type": "error",
     "traceback": [
      "\u001b[0;31m---------------------------------------------------------------------------\u001b[0m",
      "\u001b[0;31mModuleNotFoundError\u001b[0m                       Traceback (most recent call last)",
      "\u001b[1;32m/Users/matu/Documents/Xcode/whisper/03_seaparation.ipynb Celda 3\u001b[0m line \u001b[0;36m1\n\u001b[0;32m----> <a href='vscode-notebook-cell:/Users/matu/Documents/Xcode/whisper/03_seaparation.ipynb#W2sZmlsZQ%3D%3D?line=0'>1</a>\u001b[0m \u001b[39mfrom\u001b[39;00m \u001b[39mgoogle\u001b[39;00m\u001b[39m.\u001b[39;00m\u001b[39mcloud\u001b[39;00m \u001b[39mimport\u001b[39;00m speech_v1p1beta1 \u001b[39mas\u001b[39;00m speech\n\u001b[1;32m      <a href='vscode-notebook-cell:/Users/matu/Documents/Xcode/whisper/03_seaparation.ipynb#W2sZmlsZQ%3D%3D?line=2'>3</a>\u001b[0m client \u001b[39m=\u001b[39m speech\u001b[39m.\u001b[39mSpeechClient()\n\u001b[1;32m      <a href='vscode-notebook-cell:/Users/matu/Documents/Xcode/whisper/03_seaparation.ipynb#W2sZmlsZQ%3D%3D?line=4'>5</a>\u001b[0m speech_file \u001b[39m=\u001b[39m \u001b[39m\"\u001b[39m\u001b[39mAudios/Biden/biden1.mp3\u001b[39m\u001b[39m\"\u001b[39m\n",
      "\u001b[0;31mModuleNotFoundError\u001b[0m: No module named 'google'"
     ]
    }
   ],
   "source": [
    "from google.cloud import speech_v1p1beta1 as speech\n",
    "\n",
    "client = speech.SpeechClient()\n",
    "\n",
    "speech_file = \"Audios/Biden/biden1.mp3\"\n",
    "\n",
    "with open(speech_file, \"rb\") as audio_file:\n",
    "    content = audio_file.read()\n",
    "\n",
    "audio = speech.RecognitionAudio(content=content)\n",
    "\n",
    "diarization_config = speech.SpeakerDiarizationConfig(\n",
    "    enable_speaker_diarization=True,\n",
    "    min_speaker_count=2,\n",
    "    max_speaker_count=10,\n",
    ")\n",
    "\n",
    "config = speech.RecognitionConfig(\n",
    "    encoding=speech.RecognitionConfig.AudioEncoding.LINEAR16,\n",
    "    sample_rate_hertz=8000,\n",
    "    language_code=\"en-US\",\n",
    "    diarization_config=diarization_config,\n",
    ")\n",
    "\n",
    "print(\"Waiting for operation to complete...\")\n",
    "response = client.recognize(config=config, audio=audio)\n",
    "\n",
    "# The transcript within each result is separate and sequential per result.\n",
    "# However, the words list within an alternative includes all the words\n",
    "# from all the results thus far. Thus, to get all the words with speaker\n",
    "# tags, you only have to take the words list from the last result:\n",
    "result = response.results[-1]\n",
    "\n",
    "words_info = result.alternatives[0].words\n",
    "\n",
    "# Printing out the output:\n",
    "for word_info in words_info:\n",
    "    print(f\"word: '{word_info.word}', speaker_tag: {word_info.speaker_tag}\")\n",
    "\n",
    "return result"
   ]
  },
  {
   "cell_type": "code",
   "execution_count": 5,
   "metadata": {},
   "outputs": [
    {
     "name": "stdout",
     "output_type": "stream",
     "text": [
      "Collecting google\n",
      "  Downloading google-3.0.0-py2.py3-none-any.whl (45 kB)\n",
      "\u001b[2K     \u001b[90m━━━━━━━━━━━━━━━━━━━━━━━━━━━━━━━━━━━━━━━\u001b[0m \u001b[32m45.3/45.3 kB\u001b[0m \u001b[31m117.0 kB/s\u001b[0m eta \u001b[36m0:00:00\u001b[0ma \u001b[36m0:00:01\u001b[0m\n",
      "\u001b[?25hRequirement already satisfied: beautifulsoup4 in /Users/matu/.local/share/virtualenvs/whisper-uhiak0KN/lib/python3.11/site-packages (from google) (4.12.2)\n",
      "Requirement already satisfied: soupsieve>1.2 in /Users/matu/.local/share/virtualenvs/whisper-uhiak0KN/lib/python3.11/site-packages (from beautifulsoup4->google) (2.5)\n",
      "Installing collected packages: google\n",
      "Successfully installed google-3.0.0\n"
     ]
    }
   ],
   "source": [
    "!pip install google\n"
   ]
  },
  {
   "cell_type": "code",
   "execution_count": null,
   "metadata": {},
   "outputs": [],
   "source": []
  }
 ],
 "metadata": {
  "kernelspec": {
   "display_name": "whisper",
   "language": "python",
   "name": "whisper"
  },
  "language_info": {
   "codemirror_mode": {
    "name": "ipython",
    "version": 3
   },
   "file_extension": ".py",
   "mimetype": "text/x-python",
   "name": "python",
   "nbconvert_exporter": "python",
   "pygments_lexer": "ipython3",
   "version": "3.11.0"
  }
 },
 "nbformat": 4,
 "nbformat_minor": 2
}
