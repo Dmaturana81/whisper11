{
 "cells": [
  {
   "cell_type": "code",
   "execution_count": null,
<<<<<<< HEAD
   "id": "85e9a80c-947b-4de9-9a6d-21e7708ab77b",
=======
   "id": "01f1a714-7532-4f65-9517-505a16320d4c",
>>>>>>> 5625b42e9c7fc7f9541b0395f102fa36508b6ee4
   "metadata": {},
   "outputs": [],
   "source": [
    "import os\n",
    "from pytube import YouTube, Playlist\n",
<<<<<<< HEAD
    "from tqdm.notebook import tqdm\n",
    "from typing import Union\n",
    "from pathlib import Path"
=======
    "import webvtt  \n",
    "from fastcore.all import *\n",
    "from tqdm.notebook import tqdm\n",
    "import pandas as pd"
>>>>>>> 5625b42e9c7fc7f9541b0395f102fa36508b6ee4
   ]
  },
  {
   "cell_type": "code",
   "execution_count": null,
   "id": "817e03cd-4a42-44dc-b8c3-764b8436c110",
   "metadata": {},
   "outputs": [],
   "source": [
    "import re\n",
    "def to_snake_case(name):\n",
    "    return name.lower().replace(\" \", \"_\").replace(\":\", \"_\").replace(\"__\", \"_\")"
   ]
  },
  {
   "cell_type": "code",
   "execution_count": null,
<<<<<<< HEAD
   "id": "d1def169-183e-4b19-85b9-c618e546d912",
   "metadata": {},
   "outputs": [],
   "source": [
    "def load_video(url, **kwargs):\n",
    "    \"\"\"Function to load youtube video\"\"\"\n",
    "    return YouTube(url, **kwargs)"
   ]
  },
  {
   "cell_type": "code",
   "execution_count": null,
=======
>>>>>>> 5625b42e9c7fc7f9541b0395f102fa36508b6ee4
   "id": "34fd7948-3fc2-4bc5-a927-bc5533e50845",
   "metadata": {},
   "outputs": [],
   "source": [
    "def download_youtube_audio(url, out_dir=\".\", out_fname=None, best_quality=True):\n",
    "    \"Download the audio from a YouTube video\"\n",
<<<<<<< HEAD
    "    yt = load_video(url)\n",
=======
    "    yt = YouTube(url)\n",
>>>>>>> 5625b42e9c7fc7f9541b0395f102fa36508b6ee4
    "    if out_fname is None:\n",
    "        out_fname = os.path.join(out_dir, to_snake_case(yt.title) + \".mp4\")\n",
    "    yt = (yt.streams\n",
    "            .filter(only_audio=True, file_extension=\"mp4\")\n",
    "            .order_by(\"abr\"))\n",
    "    if best_quality:\n",
    "        yt = yt.desc()\n",
    "    else:\n",
    "        yt = yt.asc()\n",
    "    return yt.first().download(filename=out_fname)"
   ]
  },
  {
   "cell_type": "code",
   "execution_count": null,
<<<<<<< HEAD
   "id": "8527e292-4d2c-4733-b746-60eaab2ccbf4",
   "metadata": {},
   "outputs": [],
   "source": [
    "url = \"https://www.youtube.com/watch?v=RyLHtphyHR4\""
   ]
  },
  {
   "cell_type": "code",
   "execution_count": null,
   "id": "70850a77-e69f-4650-9983-377cddaab071",
   "metadata": {},
   "outputs": [
    {
     "data": {
      "text/plain": [
       "'/Volumes/Users/matu/Documents/Xcode/whisper/Bruna_bloginha.mp3'"
      ]
     },
     "execution_count": null,
     "metadata": {},
     "output_type": "execute_result"
    }
   ],
   "source": [
    "download_youtube_audio(url, out_fname='Bruna_bloginha.mp3')"
=======
   "id": "3bab1cf4",
   "metadata": {},
   "outputs": [],
   "source": [
    "def get_videos_info(url ):\n",
    "    data = dict()\n",
    "    \"get data for the app\"\n",
    "    yt = YouTube(url)\n",
    "    data['title'] = yt.title\n",
    "    data['description'] = yt.description\n",
    "    data['author'] = yt.author\n",
    "    data['url'] = url\n",
    "    return data"
>>>>>>> 5625b42e9c7fc7f9541b0395f102fa36508b6ee4
   ]
  },
  {
   "cell_type": "code",
   "execution_count": null,
<<<<<<< HEAD
   "id": "6725875b-bd21-41ad-889b-63923a335a61",
   "metadata": {},
   "outputs": [],
   "source": [
    "def download_youtube_subtitles(url, out_dir=\".\", out_fname=None, best_quality=True):\n",
    "    \"Download the audio from a YouTube video\"\n",
    "    yt = load_video(url)\n",
    "    if out_fname is None:\n",
    "        out_fname = os.path.join(out_dir, to_snake_case(yt.title) + \".srt\")\n",
    "    srt = yt.captions.all()\n",
    "    return srt"
=======
   "id": "bdf1c1ed-737a-4999-b631-80e445165d4d",
   "metadata": {},
   "outputs": [],
   "source": [
    "playlist_url = \"https://www.youtube.com/playlist?list=PLfYUBJiXbdtSvpQjSnJJ_PmDQB_VyT5iU\""
>>>>>>> 5625b42e9c7fc7f9541b0395f102fa36508b6ee4
   ]
  },
  {
   "cell_type": "code",
   "execution_count": null,
<<<<<<< HEAD
   "id": "117e5d7b-ad93-40d7-8583-f33155f8bef5",
   "metadata": {},
   "outputs": [
    {
     "name": "stderr",
     "output_type": "stream",
     "text": [
      "/var/folders/8v/lv57p6414hxgcf89_gbsg4f00000gn/T/ipykernel_1055/1935201023.py:6: DeprecationWarning: Call to deprecated function all (This object can be treated as a dictionary).\n",
      "  srt = yt.captions.all()\n"
     ]
    },
    {
     "data": {
      "text/plain": [
       "[]"
      ]
     },
     "execution_count": null,
     "metadata": {},
     "output_type": "execute_result"
    }
   ],
   "source": [
    "download_youtube_subtitles(url, out_fname=\"Bruna.srt\")"
=======
   "id": "4a34aa67",
   "metadata": {},
   "outputs": [],
   "source": [
    "playlist = Playlist(playlist_url)"
>>>>>>> 5625b42e9c7fc7f9541b0395f102fa36508b6ee4
   ]
  },
  {
   "cell_type": "code",
   "execution_count": null,
<<<<<<< HEAD
   "id": "c15d2cf9-7b7c-42cc-8537-0d0533f8a368",
   "metadata": {},
   "outputs": [],
   "source": [
    "yt = YouTube(url, use_oauth=True, allow_oauth_cache=True)"
=======
   "id": "f75d2adc",
   "metadata": {},
   "outputs": [],
   "source": [
    "info = [get_videos_info(url) for url in playlist]"
>>>>>>> 5625b42e9c7fc7f9541b0395f102fa36508b6ee4
   ]
  },
  {
   "cell_type": "code",
   "execution_count": null,
<<<<<<< HEAD
   "id": "b69a79b2-eda3-4fcb-aad4-9b7db4be5c4e",
   "metadata": {},
   "outputs": [
    {
     "name": "stderr",
     "output_type": "stream",
     "text": [
      "/var/folders/8v/lv57p6414hxgcf89_gbsg4f00000gn/T/ipykernel_1055/3614318295.py:1: DeprecationWarning: Call to deprecated function all (This object can be treated as a dictionary).\n",
      "  srt = yt.captions.all()\n"
     ]
    }
   ],
   "source": [
    "srt = yt.captions.all()"
=======
   "id": "2f44857c",
   "metadata": {},
   "outputs": [
    {
     "data": {
      "text/html": [
       "<div>\n",
       "<style scoped>\n",
       "    .dataframe tbody tr th:only-of-type {\n",
       "        vertical-align: middle;\n",
       "    }\n",
       "\n",
       "    .dataframe tbody tr th {\n",
       "        vertical-align: top;\n",
       "    }\n",
       "\n",
       "    .dataframe thead th {\n",
       "        text-align: right;\n",
       "    }\n",
       "</style>\n",
       "<table border=\"1\" class=\"dataframe\">\n",
       "  <thead>\n",
       "    <tr style=\"text-align: right;\">\n",
       "      <th></th>\n",
       "      <th>title</th>\n",
       "      <th>description</th>\n",
       "      <th>author</th>\n",
       "      <th>url</th>\n",
       "    </tr>\n",
       "  </thead>\n",
       "  <tbody>\n",
       "    <tr>\n",
       "      <th>0</th>\n",
       "      <td>Lesson 1: Practical Deep Learning for Coders 2022</td>\n",
       "      <td>Go to https://course.fast.ai for code, noteboo...</td>\n",
       "      <td>Jeremy Howard</td>\n",
       "      <td>https://www.youtube.com/watch?v=8SF_h3xF3cE</td>\n",
       "    </tr>\n",
       "    <tr>\n",
       "      <th>1</th>\n",
       "      <td>Lesson 2: Practical Deep Learning for Coders 2022</td>\n",
       "      <td>00:00 - Introduction\\n00:55 - Reminder to use ...</td>\n",
       "      <td>Jeremy Howard</td>\n",
       "      <td>https://www.youtube.com/watch?v=F4tvM4Vb3A0</td>\n",
       "    </tr>\n",
       "    <tr>\n",
       "      <th>2</th>\n",
       "      <td>Lesson 3: Practical Deep Learning for Coders 2022</td>\n",
       "      <td>00:00 Introduction and survey\\n01:36 \"Lesson 0...</td>\n",
       "      <td>Jeremy Howard</td>\n",
       "      <td>https://www.youtube.com/watch?v=hBBOjCiFcuo</td>\n",
       "    </tr>\n",
       "    <tr>\n",
       "      <th>3</th>\n",
       "      <td>Lesson 4: Practical Deep Learning for Coders 2022</td>\n",
       "      <td>00:00:00 - Using Huggingface\\n00:03:24 - Finet...</td>\n",
       "      <td>Jeremy Howard</td>\n",
       "      <td>https://www.youtube.com/watch?v=toUgBQv1BT8</td>\n",
       "    </tr>\n",
       "    <tr>\n",
       "      <th>4</th>\n",
       "      <td>Lesson 5: Practical Deep Learning for Coders 2022</td>\n",
       "      <td>00:00:00 - Introduction\\n00:01:59 - Linear mod...</td>\n",
       "      <td>Jeremy Howard</td>\n",
       "      <td>https://www.youtube.com/watch?v=_rXzeWq4C6w</td>\n",
       "    </tr>\n",
       "    <tr>\n",
       "      <th>5</th>\n",
       "      <td>Lesson 6: Practical Deep Learning for Coders 2022</td>\n",
       "      <td>00:00 Review\\n02:09 TwoR model\\n04:43 How to c...</td>\n",
       "      <td>Jeremy Howard</td>\n",
       "      <td>https://www.youtube.com/watch?v=AdhG64NF76E</td>\n",
       "    </tr>\n",
       "    <tr>\n",
       "      <th>6</th>\n",
       "      <td>Lesson 7: Practical Deep Learning for Coders 2022</td>\n",
       "      <td>00:00 - Tweaking first and last layers\\n02:47 ...</td>\n",
       "      <td>Jeremy Howard</td>\n",
       "      <td>https://www.youtube.com/watch?v=p4ZZq0736Po</td>\n",
       "    </tr>\n",
       "    <tr>\n",
       "      <th>7</th>\n",
       "      <td>Lesson 8 - Practical Deep Learning for Coders ...</td>\n",
       "      <td>00:00 - Neural net from scratch\\n04:46 - Param...</td>\n",
       "      <td>Jeremy Howard</td>\n",
       "      <td>https://www.youtube.com/watch?v=htiNBPxcXgo</td>\n",
       "    </tr>\n",
       "  </tbody>\n",
       "</table>\n",
       "</div>"
      ],
      "text/plain": [
       "                                               title  \\\n",
       "0  Lesson 1: Practical Deep Learning for Coders 2022   \n",
       "1  Lesson 2: Practical Deep Learning for Coders 2022   \n",
       "2  Lesson 3: Practical Deep Learning for Coders 2022   \n",
       "3  Lesson 4: Practical Deep Learning for Coders 2022   \n",
       "4  Lesson 5: Practical Deep Learning for Coders 2022   \n",
       "5  Lesson 6: Practical Deep Learning for Coders 2022   \n",
       "6  Lesson 7: Practical Deep Learning for Coders 2022   \n",
       "7  Lesson 8 - Practical Deep Learning for Coders ...   \n",
       "\n",
       "                                         description         author  \\\n",
       "0  Go to https://course.fast.ai for code, noteboo...  Jeremy Howard   \n",
       "1  00:00 - Introduction\\n00:55 - Reminder to use ...  Jeremy Howard   \n",
       "2  00:00 Introduction and survey\\n01:36 \"Lesson 0...  Jeremy Howard   \n",
       "3  00:00:00 - Using Huggingface\\n00:03:24 - Finet...  Jeremy Howard   \n",
       "4  00:00:00 - Introduction\\n00:01:59 - Linear mod...  Jeremy Howard   \n",
       "5  00:00 Review\\n02:09 TwoR model\\n04:43 How to c...  Jeremy Howard   \n",
       "6  00:00 - Tweaking first and last layers\\n02:47 ...  Jeremy Howard   \n",
       "7  00:00 - Neural net from scratch\\n04:46 - Param...  Jeremy Howard   \n",
       "\n",
       "                                           url  \n",
       "0  https://www.youtube.com/watch?v=8SF_h3xF3cE  \n",
       "1  https://www.youtube.com/watch?v=F4tvM4Vb3A0  \n",
       "2  https://www.youtube.com/watch?v=hBBOjCiFcuo  \n",
       "3  https://www.youtube.com/watch?v=toUgBQv1BT8  \n",
       "4  https://www.youtube.com/watch?v=_rXzeWq4C6w  \n",
       "5  https://www.youtube.com/watch?v=AdhG64NF76E  \n",
       "6  https://www.youtube.com/watch?v=p4ZZq0736Po  \n",
       "7  https://www.youtube.com/watch?v=htiNBPxcXgo  "
      ]
     },
     "execution_count": null,
     "metadata": {},
     "output_type": "execute_result"
    }
   ],
   "source": [
    "pd.DataFrame(info)"
>>>>>>> 5625b42e9c7fc7f9541b0395f102fa36508b6ee4
   ]
  },
  {
   "cell_type": "code",
   "execution_count": null,
<<<<<<< HEAD
   "id": "07ef1f9f-3986-4a3b-a58f-1e41a7057a35",
=======
   "id": "ef76daf9-b558-47be-9288-936a3fea48ee",
>>>>>>> 5625b42e9c7fc7f9541b0395f102fa36508b6ee4
   "metadata": {},
   "outputs": [
    {
     "data": {
<<<<<<< HEAD
      "text/plain": [
       "'/Volumes/Users/matu/Documents/Xcode/whisper/bruna (a.pt).xml'"
      ]
     },
     "execution_count": null,
     "metadata": {},
     "output_type": "execute_result"
    }
   ],
   "source": [
    "srt[0].download('bruna',srt=False)"
=======
      "application/vnd.jupyter.widget-view+json": {
       "model_id": "583fa90520824adfbcb11da32f8c5280",
       "version_major": 2,
       "version_minor": 0
      },
      "text/plain": [
       "  0%|          | 0/8 [00:00<?, ?it/s]"
      ]
     },
     "metadata": {},
     "output_type": "display_data"
    }
   ],
   "source": [
    "for url in tqdm(playlist):\n",
    "    download_youtube_audio(url, out_dir=\"fastai_transcripts\")"
>>>>>>> 5625b42e9c7fc7f9541b0395f102fa36508b6ee4
   ]
  },
  {
   "cell_type": "code",
   "execution_count": null,
<<<<<<< HEAD
   "id": "aa2c943c-44ee-43ab-855a-67d2482e9f14",
   "metadata": {},
   "outputs": [],
   "source": [
    "json_capt = srt[0].json_captions"
=======
   "id": "0f43c5ae",
   "metadata": {},
   "outputs": [],
   "source": [
    "file_path = Path('./fastai_transcripts/')"
>>>>>>> 5625b42e9c7fc7f9541b0395f102fa36508b6ee4
   ]
  },
  {
   "cell_type": "code",
   "execution_count": null,
<<<<<<< HEAD
   "id": "27cea749-b1c0-42c5-9388-1bd3b651884f",
   "metadata": {},
   "outputs": [],
   "source": [
    "xml_cap = srt[0].xml_captions"
=======
   "id": "30f23ef0",
   "metadata": {},
   "outputs": [],
   "source": [
    "def get_captions(infos: list):\n",
    "    data = []\n",
    "    for video in infos:\n",
    "        file = to_snake_case(video['title'])\n",
    "        vtt_file =  webvtt.read(file_path/f\"{file}.vtt\")\n",
    "        documents = []\n",
    "        for i, caption in tqdm(enumerate(vtt_file.captions)):\n",
    "            start = caption.start\n",
    "            start_in_s = caption.start_in_seconds\n",
    "            passage = \"\"\n",
    "            while len(passage.split(' ')) < 100 and i < len(vtt_file.captions)-1:\n",
    "                passage += \" \" + vtt_file.captions[i].raw_text\n",
    "                i += 1\n",
    "            documents.append({\n",
    "            'url':f\"{video['url']}&t={int(start_in_s)}s\",\n",
    "            'title':video['title'],\n",
    "            \"text\": passage,\n",
    "            \"start_second\": start_in_s,\n",
    "            \"end_second\": vtt_file.captions[i].end_in_seconds,\n",
    "            })\n",
    "        data.extend(documents)\n",
    "    return data"
>>>>>>> 5625b42e9c7fc7f9541b0395f102fa36508b6ee4
   ]
  },
  {
   "cell_type": "code",
   "execution_count": null,
<<<<<<< HEAD
   "id": "17e3fad3-be8b-4f69-814a-02628ab35efc",
   "metadata": {},
   "outputs": [
    {
     "ename": "KeyError",
     "evalue": "'start'",
     "output_type": "error",
     "traceback": [
      "\u001b[0;31m---------------------------------------------------------------------------\u001b[0m",
      "\u001b[0;31mKeyError\u001b[0m                                  Traceback (most recent call last)",
      "Cell \u001b[0;32mIn [35], line 1\u001b[0m\n\u001b[0;32m----> 1\u001b[0m srt[\u001b[38;5;241m0\u001b[39m]\u001b[38;5;241m.\u001b[39mgenerate_srt_captions()\n",
      "File \u001b[0;32m~/.local/share/virtualenvs/whisper-n0mNy6m5/lib/python3.9/site-packages/pytube/captions.py:61\u001b[0m, in \u001b[0;36mCaption.generate_srt_captions\u001b[0;34m(self)\u001b[0m\n\u001b[1;32m     55\u001b[0m \u001b[38;5;28;01mdef\u001b[39;00m \u001b[38;5;21mgenerate_srt_captions\u001b[39m(\u001b[38;5;28mself\u001b[39m) \u001b[38;5;241m-\u001b[39m\u001b[38;5;241m>\u001b[39m \u001b[38;5;28mstr\u001b[39m:\n\u001b[1;32m     56\u001b[0m     \u001b[38;5;124;03m\"\"\"Generate \"SubRip Subtitle\" captions.\u001b[39;00m\n\u001b[1;32m     57\u001b[0m \n\u001b[1;32m     58\u001b[0m \u001b[38;5;124;03m    Takes the xml captions from :meth:`~pytube.Caption.xml_captions` and\u001b[39;00m\n\u001b[1;32m     59\u001b[0m \u001b[38;5;124;03m    recompiles them into the \"SubRip Subtitle\" format.\u001b[39;00m\n\u001b[1;32m     60\u001b[0m \u001b[38;5;124;03m    \"\"\"\u001b[39;00m\n\u001b[0;32m---> 61\u001b[0m     \u001b[38;5;28;01mreturn\u001b[39;00m \u001b[38;5;28;43mself\u001b[39;49m\u001b[38;5;241;43m.\u001b[39;49m\u001b[43mxml_caption_to_srt\u001b[49m\u001b[43m(\u001b[49m\u001b[38;5;28;43mself\u001b[39;49m\u001b[38;5;241;43m.\u001b[39;49m\u001b[43mxml_captions\u001b[49m\u001b[43m)\u001b[49m\n",
      "File \u001b[0;32m~/.local/share/virtualenvs/whisper-n0mNy6m5/lib/python3.9/site-packages/pytube/captions.py:93\u001b[0m, in \u001b[0;36mCaption.xml_caption_to_srt\u001b[0;34m(self, xml_captions)\u001b[0m\n\u001b[1;32m     91\u001b[0m \u001b[38;5;28;01mexcept\u001b[39;00m \u001b[38;5;167;01mKeyError\u001b[39;00m:\n\u001b[1;32m     92\u001b[0m     duration \u001b[38;5;241m=\u001b[39m \u001b[38;5;241m0.0\u001b[39m\n\u001b[0;32m---> 93\u001b[0m start \u001b[38;5;241m=\u001b[39m \u001b[38;5;28mfloat\u001b[39m(\u001b[43mchild\u001b[49m\u001b[38;5;241;43m.\u001b[39;49m\u001b[43mattrib\u001b[49m\u001b[43m[\u001b[49m\u001b[38;5;124;43m\"\u001b[39;49m\u001b[38;5;124;43mstart\u001b[39;49m\u001b[38;5;124;43m\"\u001b[39;49m\u001b[43m]\u001b[49m)\n\u001b[1;32m     94\u001b[0m end \u001b[38;5;241m=\u001b[39m start \u001b[38;5;241m+\u001b[39m duration\n\u001b[1;32m     95\u001b[0m sequence_number \u001b[38;5;241m=\u001b[39m i \u001b[38;5;241m+\u001b[39m \u001b[38;5;241m1\u001b[39m  \u001b[38;5;66;03m# convert from 0-indexed to 1.\u001b[39;00m\n",
      "\u001b[0;31mKeyError\u001b[0m: 'start'"
     ]
    }
   ],
   "source": [
    "srt[0].generate_srt_captions()"
=======
   "id": "4a75ec8d",
   "metadata": {},
   "outputs": [
    {
     "data": {
      "application/vnd.jupyter.widget-view+json": {
       "model_id": "b898c43b01ee49e2bbb69ac7062f58dd",
       "version_major": 2,
       "version_minor": 0
      },
      "text/plain": [
       "0it [00:00, ?it/s]"
      ]
     },
     "metadata": {},
     "output_type": "display_data"
    },
    {
     "data": {
      "application/vnd.jupyter.widget-view+json": {
       "model_id": "c5ba2311f58f40889f855c893e98102f",
       "version_major": 2,
       "version_minor": 0
      },
      "text/plain": [
       "0it [00:00, ?it/s]"
      ]
     },
     "metadata": {},
     "output_type": "display_data"
    },
    {
     "data": {
      "application/vnd.jupyter.widget-view+json": {
       "model_id": "f0012a80921a472cb51622f88996c703",
       "version_major": 2,
       "version_minor": 0
      },
      "text/plain": [
       "0it [00:00, ?it/s]"
      ]
     },
     "metadata": {},
     "output_type": "display_data"
    },
    {
     "data": {
      "application/vnd.jupyter.widget-view+json": {
       "model_id": "638b36fde7784d9ca367d51c5b3ffd72",
       "version_major": 2,
       "version_minor": 0
      },
      "text/plain": [
       "0it [00:00, ?it/s]"
      ]
     },
     "metadata": {},
     "output_type": "display_data"
    },
    {
     "data": {
      "application/vnd.jupyter.widget-view+json": {
       "model_id": "3a60204773da422893b3c0498e5cf373",
       "version_major": 2,
       "version_minor": 0
      },
      "text/plain": [
       "0it [00:00, ?it/s]"
      ]
     },
     "metadata": {},
     "output_type": "display_data"
    },
    {
     "data": {
      "application/vnd.jupyter.widget-view+json": {
       "model_id": "e90689039d724105b3eb9d13fca6b1f3",
       "version_major": 2,
       "version_minor": 0
      },
      "text/plain": [
       "0it [00:00, ?it/s]"
      ]
     },
     "metadata": {},
     "output_type": "display_data"
    },
    {
     "data": {
      "application/vnd.jupyter.widget-view+json": {
       "model_id": "5aec11cd0aa64be38bb36c320c8737ad",
       "version_major": 2,
       "version_minor": 0
      },
      "text/plain": [
       "0it [00:00, ?it/s]"
      ]
     },
     "metadata": {},
     "output_type": "display_data"
    },
    {
     "data": {
      "application/vnd.jupyter.widget-view+json": {
       "model_id": "9544c35d30304d7386a1d9ad86678d66",
       "version_major": 2,
       "version_minor": 0
      },
      "text/plain": [
       "0it [00:00, ?it/s]"
      ]
     },
     "metadata": {},
     "output_type": "display_data"
    }
   ],
   "source": [
    "all_cap = get_captions(info)"
>>>>>>> 5625b42e9c7fc7f9541b0395f102fa36508b6ee4
   ]
  },
  {
   "cell_type": "code",
   "execution_count": null,
<<<<<<< HEAD
   "id": "bdf1c1ed-737a-4999-b631-80e445165d4d",
   "metadata": {},
   "outputs": [],
   "source": [
    "def save_list(in_file:Union[str,Path], out_dir:str = './',out_fname:[str]=None, best_quality:bool=True):\n",
    "    \"\"\"Function to download sound and captions from a list of youtube videos\"\"\"\n",
    "    in_file = in_file if isinstance(in_file, Path) else Path(in_file)\n",
    "    if not in_file.exists():\n",
    "        print(f\"File {in_file} does not exist\")\n",
    "    with open(in_file,'r') as infile:\n",
    "        urls = infile.readlines()\n",
    "    for url in urls:\n",
    "        yt = load_video(url)\n",
    "        if out_fname is None:\n",
    "            out_fname = os.path.join(out_dir, to_snake_case(yt.title) + \".mp4\")\n",
    "        vid = (yt.streams\n",
    "                    .filter(only_audio=True, file_extension=\"mp4\")\n",
    "                    .order_by(\"abr\"))\n",
    "        if best_quality:\n",
    "            vid = vid.desc()\n",
    "        else:\n",
    "            vid = vid.asc()\n",
    "        vid.first().download(filename=out_fname)\n",
    "        out_cap = out_fname + \".srt\"\n",
    "        srt = yt.captions.all()\n",
    "        srt.download(out_cap)\n",
    "    return \n",
    "    # = \"https://www.youtube.com/playlist?list=PLfYUBJiXbdtSvpQjSnJJ_PmDQB_VyT5iU\""
=======
   "id": "c360c198",
   "metadata": {},
   "outputs": [
    {
     "data": {
      "text/plain": [
       "{'url': 'https://www.youtube.com/watch?v=8SF_h3xF3cE&t=6s',\n",
       " 'title': 'Lesson 1: Practical Deep Learning for Coders 2022',\n",
       " 'text': \"  This is version five of this course.  And it's the first do one we've done in two years.  So we've got a lot of cool things to cover.  It's amazing how much has changed.  Here is a XKCD from the end of 2015.  Who here is saying XKCD comics before?  Pretty much everybody, not surprising.  So the basic joke here is I'll let you read it,  and then I'll come back to it.  So it can be hard to tell what's easy and what's nearly impossible.  And in 2015 or at the end of 2015,\",\n",
       " 'start_second': 6.6,\n",
       " 'end_second': 61.0}"
      ]
     },
     "execution_count": null,
     "metadata": {},
     "output_type": "execute_result"
    }
   ],
   "source": [
    "all_cap[1]"
   ]
  },
  {
   "cell_type": "markdown",
   "id": "107cbad4",
   "metadata": {},
   "source": [
    "We will loop through all of these files to give us the initial core dataset consisting of *video_id*, *text*, *start_second*, *end_second*, and *url*."
   ]
  },
  {
   "cell_type": "code",
   "execution_count": null,
   "id": "4e96d5a1",
   "metadata": {},
   "outputs": [],
   "source": [
    "import json"
>>>>>>> 5625b42e9c7fc7f9541b0395f102fa36508b6ee4
   ]
  },
  {
   "cell_type": "code",
   "execution_count": null,
<<<<<<< HEAD
   "id": "475e97e7-b5a5-4211-a05f-5e13710b8856",
   "metadata": {},
   "outputs": [
    {
     "name": "stderr",
     "output_type": "stream",
     "text": [
      "/var/folders/8v/lv57p6414hxgcf89_gbsg4f00000gn/T/ipykernel_1055/1755925597.py:22: DeprecationWarning: Call to deprecated function all (This object can be treated as a dictionary).\n",
      "  srt = yt.captions.all()\n",
      "/var/folders/8v/lv57p6414hxgcf89_gbsg4f00000gn/T/ipykernel_1055/1755925597.py:22: DeprecationWarning: Call to deprecated function all (This object can be treated as a dictionary).\n",
      "  srt = yt.captions.all()\n",
      "/var/folders/8v/lv57p6414hxgcf89_gbsg4f00000gn/T/ipykernel_1055/1755925597.py:22: DeprecationWarning: Call to deprecated function all (This object can be treated as a dictionary).\n",
      "  srt = yt.captions.all()\n",
      "/var/folders/8v/lv57p6414hxgcf89_gbsg4f00000gn/T/ipykernel_1055/1755925597.py:22: DeprecationWarning: Call to deprecated function all (This object can be treated as a dictionary).\n",
      "  srt = yt.captions.all()\n"
     ]
    }
   ],
   "source": [
    "save_list('./url_list_bruna.txt')"
=======
   "id": "3af2d20e",
   "metadata": {},
   "outputs": [],
   "source": [
    "with open(\"train.jsonl\", \"w\") as f:\n",
    "    for doc in all_cap:\n",
    "        json.dump(doc, f)\n",
    "        f.write('\\n')"
>>>>>>> 5625b42e9c7fc7f9541b0395f102fa36508b6ee4
   ]
  },
  {
   "cell_type": "code",
   "execution_count": null,
<<<<<<< HEAD
   "id": "ef76daf9-b558-47be-9288-936a3fea48ee",
   "metadata": {},
   "outputs": [
    {
     "data": {
      "application/vnd.jupyter.widget-view+json": {
       "model_id": "583fa90520824adfbcb11da32f8c5280",
       "version_major": 2,
       "version_minor": 0
      },
      "text/plain": [
       "  0%|          | 0/8 [00:00<?, ?it/s]"
      ]
     },
     "metadata": {},
     "output_type": "display_data"
    }
   ],
   "source": [
    "for url in tqdm(playlist):\n",
    "    download_youtube_audio(url, out_dir=\"fastai_transcripts\")"
=======
   "id": "6c7d22ff",
   "metadata": {},
   "outputs": [],
   "source": [
    "with open(\"train.jsonl\") as f:\n",
    "    d = f.readlines()"
>>>>>>> 5625b42e9c7fc7f9541b0395f102fa36508b6ee4
   ]
  },
  {
   "cell_type": "code",
   "execution_count": null,
<<<<<<< HEAD
   "id": "152caffc-73e9-4712-9d29-4d66b882cb27",
=======
   "id": "94961c61-e217-445f-8f85-6df0b75e9002",
>>>>>>> 5625b42e9c7fc7f9541b0395f102fa36508b6ee4
   "metadata": {},
   "outputs": [
    {
     "data": {
      "text/plain": [
<<<<<<< HEAD
       "'/home/tcapelle/wandb/whisper/pastry.mp4'"
=======
       "['{\"url\": \"https://www.youtube.com/watch?v=8SF_h3xF3cE&t=0s\", \"title\": \"Lesson 1: Practical Deep Learning for Coders 2022\", \"text\": \"  Welcome to practical deep learning for coders lesson one.  This is version five of this course.  And it\\'s the first do one we\\'ve done in two years.  So we\\'ve got a lot of cool things to cover.  It\\'s amazing how much has changed.  Here is a XKCD from the end of 2015.  Who here is saying XKCD comics before?  Pretty much everybody, not surprising.  So the basic joke here is I\\'ll let you read it,  and then I\\'ll come back to it.  So it can be hard to tell what\\'s easy and what\\'s nearly impossible.\", \"start_second\": 0.0, \"end_second\": 58.0}\\n']"
>>>>>>> 5625b42e9c7fc7f9541b0395f102fa36508b6ee4
      ]
     },
     "execution_count": null,
     "metadata": {},
     "output_type": "execute_result"
    }
   ],
   "source": [
<<<<<<< HEAD
    "download_youtube_audio(\"https://www.youtube.com/watch?v=Gh2HnhO2JS0\", out_fname=\"pastry.mp4\")"
=======
    "d[:1]"
>>>>>>> 5625b42e9c7fc7f9541b0395f102fa36508b6ee4
   ]
  },
  {
   "cell_type": "code",
   "execution_count": null,
<<<<<<< HEAD
   "id": "94961c61-e217-445f-8f85-6df0b75e9002",
=======
   "id": "0ec42287",
>>>>>>> 5625b42e9c7fc7f9541b0395f102fa36508b6ee4
   "metadata": {},
   "outputs": [],
   "source": []
  }
 ],
 "metadata": {
  "kernelspec": {
<<<<<<< HEAD
   "display_name": "whisper",
   "language": "python",
   "name": "whisper"
=======
   "display_name": "Python 3 (ipykernel)",
   "language": "python",
   "name": "python3"
>>>>>>> 5625b42e9c7fc7f9541b0395f102fa36508b6ee4
  }
 },
 "nbformat": 4,
 "nbformat_minor": 5
}
