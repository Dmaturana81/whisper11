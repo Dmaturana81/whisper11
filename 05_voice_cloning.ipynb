{
 "cells": [
  {
   "cell_type": "code",
   "execution_count": null,
   "id": "ab06a461-b224-4771-84a3-504e5ca95bea",
   "metadata": {},
   "outputs": [],
   "source": [
    "from elevenlabs import clone, generate, play, set_api_key, Voice\n",
    "from fastcore.all import *\n",
    "import os"
   ]
  },
  {
   "cell_type": "code",
   "execution_count": null,
   "id": "c8546211-0e64-4c4b-8615-e4f405a98418",
   "metadata": {},
   "outputs": [
    {
     "name": "stdout",
     "output_type": "stream",
     "text": [
      "HELLO\n"
     ]
    }
   ],
   "source": [
    "if not os.environ.get('ELEVEN_API_KEY'):\n",
    "    print('HELLO')"
   ]
  },
  {
   "cell_type": "code",
   "execution_count": null,
   "id": "0b4a71de-e6a3-4230-828d-78a747a9f1f5",
   "metadata": {},
   "outputs": [],
   "source": [
    "set_api_key(\"bfc8b8afb2d2116e02d288d018522d62\")"
   ]
  },
  {
   "cell_type": "code",
   "execution_count": null,
   "id": "18de335b-db87-4043-a7cc-db85f2680a2a",
   "metadata": {},
   "outputs": [],
   "source": [
    "def str2path(file):\n",
    "    return file if isinstance(file, Path) else Path(file)"
   ]
  },
  {
   "cell_type": "code",
   "execution_count": null,
   "id": "774b6a5e-7e92-4624-9645-08ee6f2363e2",
   "metadata": {},
   "outputs": [],
   "source": [
    "audio_files = Path('Audios/Neymar/').rglob('./*.mp3')"
   ]
  },
  {
   "cell_type": "code",
   "execution_count": null,
   "id": "cc4c9b7d-ad9e-4df1-a526-61160f6aedef",
   "metadata": {},
   "outputs": [],
   "source": [
    "files = [x.as_posix() for x in list(audio_files) if x.stat().st_size <= 11000000]"
   ]
  },
  {
   "cell_type": "code",
   "execution_count": null,
   "id": "ae6022a9-3839-4c3b-a471-d7f2058f128c",
   "metadata": {},
   "outputs": [
    {
     "data": {
      "text/plain": [
       "['Audios/Neymar/Neymar_2/Neymar_2_8.mp3',\n",
       " 'Audios/Neymar/Neymar_2/Neymar_2_15.mp3',\n",
       " 'Audios/Neymar/Neymar_1/Neymar_1_8.mp3',\n",
       " 'Audios/Neymar/Neymar_1/Neymar_1_17.mp3',\n",
       " 'Audios/Neymar/Neymar_1/Neymar_1_35.mp3',\n",
       " 'Audios/Neymar/Neymar_1/Neymar_1_136.mp3',\n",
       " 'Audios/Neymar/Neymar_1/Neymar_1_26.mp3',\n",
       " 'Audios/Neymar/Neymar_0/Neymar_0_35.mp3',\n",
       " 'Audios/Neymar/Neymar_0/Neymar_0_26.mp3',\n",
       " 'Audios/Neymar/Neymar_0/Neymar_0_8.mp3',\n",
       " 'Audios/Neymar/Neymar_0/Neymar_0_53.mp3',\n",
       " 'Audios/Neymar/Neymar_0/Neymar_0_44.mp3',\n",
       " 'Audios/Neymar/Neymar_0/Neymar_0_62.mp3',\n",
       " 'Audios/Neymar/Neymar_0/Neymar_0_72.mp3',\n",
       " 'Audios/Neymar/Neymar_0/Neymar_0_71.mp3',\n",
       " 'Audios/Neymar/Neymar_0/Neymar_0_17.mp3']"
      ]
     },
     "execution_count": null,
     "metadata": {},
     "output_type": "execute_result"
    }
   ],
   "source": [
    "files"
   ]
  },
  {
   "cell_type": "code",
   "execution_count": null,
   "id": "7ed3fa25-834d-46d9-a814-c48649af8aed",
   "metadata": {},
   "outputs": [],
   "source": [
    "voice = clone(\n",
    "    name=\"Neymar Jr\",\n",
    "    description=\"A young Brazilian football player, on of the best of Brazil.\", # Optional\n",
    "    files=files[:25],\n",
    ")"
   ]
  },
  {
   "cell_type": "code",
   "execution_count": null,
   "id": "97f0b693-d755-41b9-a3cf-f08cc06eb453",
   "metadata": {},
   "outputs": [],
   "source": [
    "def clone_voice(\n",
    "    mp3_path: Union[str,Path],\n",
    "    name: str,\n",
    "    description:str = None,\n",
    "    api_key: str = \n",
    ")->Voice:\n",
    "    \"\"\"Function to clone the voice of an artist\"\"\"\n",
    "    set_api_key(api_key) if not os.environ.get('ELEVEN_API_KEY') else noop\n",
    "    mp3_path = str2path(mp3_path)\n",
    "    audio_files = mp3_path.rglob('./*.mp3')\n",
    "    #Filter for files smaller than 11 MB, the max elevenlabs accept\n",
    "    files = [x.as_posix() for x in list(audio_files) if x.stat().st_size <= 11000000]\n",
    "    voice = clone(\n",
    "        name=name,\n",
    "        description=description ,\n",
    "        files=files[:25],\n",
    "    )\n",
    "    return voice"
   ]
  },
  {
   "cell_type": "code",
   "execution_count": null,
   "id": "8445f75f-aabe-424d-bb8d-0f1c6345b580",
   "metadata": {},
   "outputs": [],
   "source": []
  }
 ],
 "metadata": {
  "kernelspec": {
   "display_name": "whisper",
   "language": "python",
   "name": "whisper"
  }
 },
 "nbformat": 4,
 "nbformat_minor": 5
}
