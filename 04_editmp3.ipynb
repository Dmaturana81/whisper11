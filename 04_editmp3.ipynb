{
 "cells": [
  {
   "cell_type": "code",
   "execution_count": null,
   "metadata": {},
   "outputs": [],
   "source": [
    "from pydub import AudioSegment \n",
    "import time\n",
    "from fastcore.all import *\n",
    "from datetime import datetime"
   ]
  },
  {
   "cell_type": "code",
   "execution_count": null,
   "metadata": {},
   "outputs": [],
   "source": [
    "def str2path(file):\n",
    "    return file if isinstance(file, Path) else Path(file)"
   ]
  },
  {
   "cell_type": "code",
   "execution_count": null,
   "metadata": {},
   "outputs": [],
   "source": [
    "def time2msec(time:str):\n",
    "    pt = datetime.strptime(time,'%H:%M:%S' )\n",
    "    return (pt.hour * 3600 + pt.minute * 60 + pt.second) * 1000"
   ]
  },
  {
   "cell_type": "code",
   "execution_count": null,
   "metadata": {},
   "outputs": [],
   "source": [
    "def loadtsfile(file):\n",
    "    file = str2path(file)\n",
    "    with open(file,'r') as infile:\n",
    "        ts = infile.readlines()\n",
    "    tss = [x.strip('\\n').split('\\t')[0:3] for x in ts if len(x.split('\\t'))>1]\n",
    "    return [{'speaker':x[0], 'start':x[1], 'end':x[2]} for x in tss]\n"
   ]
  },
  {
   "cell_type": "code",
   "execution_count": null,
   "metadata": {},
   "outputs": [],
   "source": [
    "def split_audio(\n",
    "    input_file:Union[str,Path],\n",
    "    ts_file:list[dict],\n",
    "    output_folder:Union[str,Path] = None\n",
    "):\n",
    "    input_file = str2path(input_file)\n",
    "    ts_file = str2path(ts_file)\n",
    "    output_folder = str2path(output_folder) if output_folder else input_file.parent/input_file.stem\n",
    "    \n",
    "    if not output_folder.exists():\n",
    "        output_folder.mkdir()\n",
    "\n",
    "    \n",
    "    ts_d = loadtsfile(ts_file)\n",
    "    \n",
    "    audio = AudioSegment.from_file(input_file)\n",
    "    for i,limit in enumerate(ts_d):\n",
    "        if limit['start'] == '0':\n",
    "            limit['start'] = '0:0:0'\n",
    "        clip = audio[time2msec(limit['start']):time2msec(limit['end'])]\n",
    "        clip.export(output_folder/f\"{limit['speaker']}_{i}.mp3\", format='mp3')"
   ]
  },
  {
   "cell_type": "code",
   "execution_count": null,
   "metadata": {},
   "outputs": [],
   "source": [
    "split_audio('Audios/Bolsonaro/Bolsonaro_1.mp3', 'Audios/Bolsonaro/ts_Bolsonaro_1.txt')"
   ]
  },
  {
   "cell_type": "code",
   "execution_count": null,
   "metadata": {},
   "outputs": [],
   "source": [
    "with open('./Audios/Biden/ts_biden1.txt','r') as infile:\n",
    "    ts = infile.readlines()"
   ]
  },
  {
   "cell_type": "code",
   "execution_count": null,
   "metadata": {},
   "outputs": [],
   "source": [
    "tss = [x.strip('\\n').split('\\t')[0:3] for x in ts if len(x.split('\\t'))>1]"
   ]
  },
  {
   "cell_type": "code",
   "execution_count": null,
   "metadata": {},
   "outputs": [],
   "source": [
    "ts_d = [{'speaker':x[0], 'start':x[1], 'end':x[2]} for x in tss]\n"
   ]
  },
  {
   "cell_type": "code",
   "execution_count": null,
   "metadata": {},
   "outputs": [],
   "source": [
    "song = AudioSegment.from_file(\"Audios/Biden/Biden_1.mp3\", \n",
    "                              ) "
   ]
  },
  {
   "cell_type": "code",
   "execution_count": null,
   "metadata": {},
   "outputs": [],
   "source": [
    "for i,limit in enumerate(ts_d):\n",
    "    if limit['start'] == '0':\n",
    "        limit['start'] = '0:0:0'\n",
    "    clip = song[time2msec(limit['start']):time2msec(limit['end'])]\n",
    "    clip.export(f\"{limit['speaker']}_{i}.mp3\", format='mp3')\n",
    "    "
   ]
  }
 ],
 "metadata": {
  "kernelspec": {
   "display_name": "whisper",
   "language": "python",
   "name": "whisper"
  }
 },
 "nbformat": 4,
 "nbformat_minor": 4
}
