{
 "cells": [
  {
   "cell_type": "code",
   "execution_count": null,
   "metadata": {},
   "outputs": [],
   "source": [
    "from pydub import AudioSegment \n",
    "import time\n",
    "from fastcore.all import *\n",
    "from datetime import datetime\n",
    "from pydub import AudioSegment\n"
   ]
  },
  {
   "cell_type": "code",
   "execution_count": null,
   "metadata": {},
   "outputs": [],
   "source": [
    "def str2path(file):\n",
    "    return file if isinstance(file, Path) else Path(file)"
   ]
  },
  {
   "cell_type": "code",
   "execution_count": null,
   "metadata": {},
   "outputs": [],
   "source": [
    "def time2msec(time:str):\n",
    "    pt = datetime.strptime(time,'%H:%M:%S' )\n",
    "    return (pt.hour * 3600 + pt.minute * 60 + pt.second) * 1000"
   ]
  },
  {
   "cell_type": "code",
   "execution_count": null,
   "metadata": {},
   "outputs": [],
   "source": [
    "def loadtsfile(file):\n",
    "    file = str2path(file)\n",
    "    with open(file,'r') as infile:\n",
    "        ts = infile.readlines()\n",
    "    tss = [x.strip('\\n').split('\\t')[0:3] for x in ts if len(x.split('\\t'))>1]\n",
    "    return [{'speaker':x[0], 'start':x[1], 'end':x[2]} for x in tss]\n"
   ]
  },
  {
   "cell_type": "code",
   "execution_count": null,
   "metadata": {},
   "outputs": [],
   "source": [
    "def split_audio(\n",
    "    input_file:Union[str,Path],\n",
    "    ts_file:list[dict],\n",
    "    output_folder:Union[str,Path] = None\n",
    "):\n",
    "    input_file = str2path(input_file)\n",
    "    ts_file = str2path(ts_file)\n",
    "    output_folder = str2path(output_folder) if output_folder else input_file.parent/input_file.stem\n",
    "    \n",
    "    if not output_folder.exists():\n",
    "        output_folder.mkdir()\n",
    "\n",
    "    \n",
    "    ts_d = loadtsfile(ts_file)\n",
    "    \n",
    "    audio = AudioSegment.from_file(input_file)\n",
    "    for i,limit in enumerate(ts_d):\n",
    "        if limit['start'] == '0':\n",
    "            limit['start'] = '0:0:0'\n",
    "        clip = audio[time2msec(limit['start']):time2msec(limit['end'])]\n",
    "        clip.export(output_folder/f\"{limit['speaker']}_{i}.mp3\", format='mp3')"
   ]
  },
  {
   "cell_type": "code",
   "execution_count": null,
   "metadata": {},
   "outputs": [],
   "source": [
    "split_audio('Audios/Trump/Trump_2.mp3', 'Audios/Trump/ts_trump_2.txt')"
   ]
  },
  {
   "cell_type": "code",
   "execution_count": null,
   "metadata": {},
   "outputs": [],
   "source": [
    "p = Path('Audios/Trump/')"
   ]
  },
  {
   "cell_type": "code",
   "execution_count": null,
   "metadata": {},
   "outputs": [
    {
     "name": "stdout",
     "output_type": "stream",
     "text": [
      "Audios/Trump/Trump_2\n",
      "Audios/Trump/Trump_1\n",
      "Audios/Trump/Trump_0\n"
     ]
    }
   ],
   "source": [
    "for path in p.ls():\n",
    "    if path.is_dir():\n",
    "        print(path)"
   ]
  },
  {
   "cell_type": "code",
   "execution_count": null,
   "metadata": {},
   "outputs": [],
   "source": [
    "MP3_FILES = Path('Audios/Trump/Trump_2').rglob('**/*.mp3')\n",
    "MP3_FILES = [x for x in MP3_FILES]\n"
   ]
  },
  {
   "cell_type": "code",
   "execution_count": null,
   "metadata": {},
   "outputs": [],
   "source": [
    "silence = AudioSegment.silent(duration=2000)"
   ]
  },
  {
   "cell_type": "code",
   "execution_count": null,
   "metadata": {},
   "outputs": [
    {
     "data": {
      "text/plain": [
       "Path('Audios/Trump/Trump_2/SPEAKER 1_84.mp3')"
      ]
     },
     "execution_count": null,
     "metadata": {},
     "output_type": "execute_result"
    }
   ],
   "source": [
    "MP3_FILES[0].parent/f'{MP3_FILES[0].stem}.mp3'"
   ]
  },
  {
   "cell_type": "code",
   "execution_count": null,
   "metadata": {},
   "outputs": [],
   "source": [
    "combined = AudioSegment.empty()\n",
    "for i, mp3 in enumerate(MP3_FILES):\n",
    "    combined += AudioSegment.from_file(mp3.as_posix())\n",
    "    combined += silence\n"
   ]
  },
  {
   "cell_type": "code",
   "execution_count": null,
   "metadata": {},
   "outputs": [
    {
     "data": {
      "text/plain": [
       "<_io.BufferedRandom name='./Trump_2.mp3'>"
      ]
     },
     "execution_count": null,
     "metadata": {},
     "output_type": "execute_result"
    }
   ],
   "source": [
    "combined.export('./Trump_2.mp3', format='mp3')"
   ]
  },
  {
   "cell_type": "code",
   "execution_count": null,
   "metadata": {},
   "outputs": [],
   "source": [
    "def merge_mp3s(\n",
    "    parent_path:Union[str, Path],\n",
    "    maxlength:int = 9\n",
    "):\n",
    "    p = str2path(parent_path)\n",
    "    silence = AudioSegment.silent(duration=1500)\n",
    "    for path in p.ls():\n",
    "        if path.is_dir():\n",
    "            combined = AudioSegment.empty()            \n",
    "            count = 0\n",
    "            MP3_FILES = path.rglob('**/*.mp3')\n",
    "            MP3_FILES = list(MP3_FILES)\n",
    "            for i, mp3 in enumerate(MP3_FILES):\n",
    "                try:\n",
    "                    combined += AudioSegment.from_file(mp3.as_posix())\n",
    "                    combined += silence\n",
    "                except:\n",
    "                    continue\n",
    "                count += 1\n",
    "                if count >= maxlength:\n",
    "                    combined.export(path/f\"{path.stem}_{i}.mp3\", format='mp3')\n",
    "                    combined = AudioSegment.empty()   \n",
    "                    count = 0\n",
    "                    print(f\"batch {i} {path} Merged\")\n",
    "                elif i+1 == len(MP3_FILES):\n",
    "                    combined.export(path/f\"{path.stem}_{i}.mp3\", format='mp3')\n",
    "            _ = [x.unlink() for x in MP3_FILES]\n",
    "            print(f\"Directory {path} Merged\")\n",
    "            "
   ]
  },
  {
   "cell_type": "code",
   "execution_count": null,
   "metadata": {},
   "outputs": [
    {
     "name": "stdout",
     "output_type": "stream",
     "text": [
      "batch 8 Audios/Neymar/Neymar_2 Merged\n",
      "Directory Audios/Neymar/Neymar_2 Merged\n",
      "batch 8 Audios/Neymar/Neymar_1 Merged\n",
      "batch 17 Audios/Neymar/Neymar_1 Merged\n",
      "batch 26 Audios/Neymar/Neymar_1 Merged\n",
      "batch 35 Audios/Neymar/Neymar_1 Merged\n",
      "Directory Audios/Neymar/Neymar_1 Merged\n",
      "batch 8 Audios/Neymar/Neymar_0 Merged\n",
      "batch 17 Audios/Neymar/Neymar_0 Merged\n",
      "batch 26 Audios/Neymar/Neymar_0 Merged\n",
      "batch 35 Audios/Neymar/Neymar_0 Merged\n",
      "batch 44 Audios/Neymar/Neymar_0 Merged\n",
      "batch 53 Audios/Neymar/Neymar_0 Merged\n",
      "batch 62 Audios/Neymar/Neymar_0 Merged\n",
      "batch 71 Audios/Neymar/Neymar_0 Merged\n",
      "Directory Audios/Neymar/Neymar_0 Merged\n"
     ]
    }
   ],
   "source": [
    "merge_mp3s('Audios/Neymar/')"
   ]
  },
  {
   "cell_type": "code",
   "execution_count": null,
   "metadata": {},
   "outputs": [],
   "source": [
    "with open('./Audios/Biden/ts_biden1.txt','r') as infile:\n",
    "    ts = infile.readlines()"
   ]
  },
  {
   "cell_type": "code",
   "execution_count": null,
   "metadata": {},
   "outputs": [],
   "source": [
    "tss = [x.strip('\\n').split('\\t')[0:3] for x in ts if len(x.split('\\t'))>1]"
   ]
  },
  {
   "cell_type": "code",
   "execution_count": null,
   "metadata": {},
   "outputs": [],
   "source": [
    "ts_d = [{'speaker':x[0], 'start':x[1], 'end':x[2]} for x in tss]\n"
   ]
  },
  {
   "cell_type": "code",
   "execution_count": null,
   "metadata": {},
   "outputs": [],
   "source": [
    "song = AudioSegment.from_file(\"Audios/Biden/Biden_1.mp3\", \n",
    "                              ) "
   ]
  },
  {
   "cell_type": "code",
   "execution_count": null,
   "metadata": {},
   "outputs": [],
   "source": [
    "for i,limit in enumerate(ts_d):\n",
    "    if limit['start'] == '0':\n",
    "        limit['start'] = '0:0:0'\n",
    "    clip = song[time2msec(limit['start']):time2msec(limit['end'])]\n",
    "    clip.export(f\"{limit['speaker']}_{i}.mp3\", format='mp3')\n",
    "    "
   ]
  }
 ],
 "metadata": {
  "kernelspec": {
   "display_name": "whisper",
   "language": "python",
   "name": "whisper"
  }
 },
 "nbformat": 4,
 "nbformat_minor": 4
}
